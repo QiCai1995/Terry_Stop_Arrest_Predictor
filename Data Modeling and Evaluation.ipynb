{
 "cells": [
  {
   "cell_type": "markdown",
   "metadata": {},
   "source": [
    "# Data Modeling\n"
   ]
  },
  {
   "cell_type": "code",
   "execution_count": 1,
   "metadata": {},
   "outputs": [],
   "source": [
    "# Import necessary libraries\n",
    "import numpy as np\n",
    "import pandas as pd\n",
    "import matplotlib.pyplot as plt\n",
    "import seaborn as sns\n",
    "from sklearn.model_selection import train_test_split, cross_validate, KFold, cross_val_score, GridSearchCV\n",
    "from sklearn.preprocessing import OneHotEncoder, FunctionTransformer\n",
    "from sklearn.linear_model import LogisticRegression\n",
    "from sklearn.tree import DecisionTreeClassifier\n",
    "from sklearn.metrics import accuracy_score, precision_score, f1_score, recall_score\n",
    "from sklearn.metrics import confusion_matrix, classification_report, log_loss, plot_confusion_matrix, roc_curve, auc, plot_roc_curve\n",
    "from sklearn.compose import ColumnTransformer, make_column_selector as selector\n",
    "from sklearn.pipeline import Pipeline\n",
    "from imblearn.over_sampling import SMOTE\n",
    "from imblearn.under_sampling import RandomUnderSampler\n",
    "from imblearn.pipeline import Pipeline as ImPipeline\n",
    "from sklearn.dummy import DummyClassifier"
   ]
  },
  {
   "cell_type": "code",
   "execution_count": 2,
   "metadata": {},
   "outputs": [],
   "source": [
    "# Load cleaned dataframe"
   ]
  },
  {
   "cell_type": "code",
   "execution_count": 4,
   "metadata": {},
   "outputs": [],
   "source": [
    "df = pd.read_csv(\n",
    "'./Data/Cleaned_Terry_Stops.csv')"
   ]
  },
  {
   "cell_type": "code",
   "execution_count": 5,
   "metadata": {
    "scrolled": true
   },
   "outputs": [
    {
     "data": {
      "text/html": [
       "<div>\n",
       "<style scoped>\n",
       "    .dataframe tbody tr th:only-of-type {\n",
       "        vertical-align: middle;\n",
       "    }\n",
       "\n",
       "    .dataframe tbody tr th {\n",
       "        vertical-align: top;\n",
       "    }\n",
       "\n",
       "    .dataframe thead th {\n",
       "        text-align: right;\n",
       "    }\n",
       "</style>\n",
       "<table border=\"1\" class=\"dataframe\">\n",
       "  <thead>\n",
       "    <tr style=\"text-align: right;\">\n",
       "      <th></th>\n",
       "      <th>Unnamed: 0</th>\n",
       "      <th>Subject Age Group</th>\n",
       "      <th>Stop Resolution</th>\n",
       "      <th>Weapon Type</th>\n",
       "      <th>Subject Perceived Race</th>\n",
       "      <th>Subject Perceived Gender</th>\n",
       "      <th>Initial Call Type</th>\n",
       "      <th>Final Call Type</th>\n",
       "      <th>Arrest Flag</th>\n",
       "      <th>Frisk Flag</th>\n",
       "    </tr>\n",
       "  </thead>\n",
       "  <tbody>\n",
       "    <tr>\n",
       "      <th>0</th>\n",
       "      <td>0</td>\n",
       "      <td>36 - 45</td>\n",
       "      <td>0</td>\n",
       "      <td>Unknown</td>\n",
       "      <td>White</td>\n",
       "      <td>Male</td>\n",
       "      <td>DISTURBANCE, MISCELLANEOUS/OTHER</td>\n",
       "      <td>DISTURBANCE - OTHER</td>\n",
       "      <td>0</td>\n",
       "      <td>0</td>\n",
       "    </tr>\n",
       "    <tr>\n",
       "      <th>1</th>\n",
       "      <td>1</td>\n",
       "      <td>46 - 55</td>\n",
       "      <td>0</td>\n",
       "      <td>Unknown</td>\n",
       "      <td>White</td>\n",
       "      <td>Male</td>\n",
       "      <td>SUSPICIOUS PERSON, VEHICLE OR INCIDENT</td>\n",
       "      <td>SUSPICIOUS CIRCUM. - SUSPICIOUS PERSON</td>\n",
       "      <td>0</td>\n",
       "      <td>0</td>\n",
       "    </tr>\n",
       "    <tr>\n",
       "      <th>2</th>\n",
       "      <td>2</td>\n",
       "      <td>26 - 35</td>\n",
       "      <td>0</td>\n",
       "      <td>No Weapons</td>\n",
       "      <td>White</td>\n",
       "      <td>Male</td>\n",
       "      <td>Unknown</td>\n",
       "      <td>Unknown</td>\n",
       "      <td>0</td>\n",
       "      <td>0</td>\n",
       "    </tr>\n",
       "    <tr>\n",
       "      <th>3</th>\n",
       "      <td>3</td>\n",
       "      <td>Unknown</td>\n",
       "      <td>0</td>\n",
       "      <td>Unknown</td>\n",
       "      <td>Black or African American</td>\n",
       "      <td>Male</td>\n",
       "      <td>SUSPICIOUS STOP - OFFICER INITIATED ONVIEW</td>\n",
       "      <td>SUSPICIOUS CIRCUM. - SUSPICIOUS PERSON</td>\n",
       "      <td>0</td>\n",
       "      <td>0</td>\n",
       "    </tr>\n",
       "    <tr>\n",
       "      <th>4</th>\n",
       "      <td>4</td>\n",
       "      <td>26 - 35</td>\n",
       "      <td>0</td>\n",
       "      <td>Unknown</td>\n",
       "      <td>Unknown</td>\n",
       "      <td>Female</td>\n",
       "      <td>SUSPICIOUS PERSON, VEHICLE OR INCIDENT</td>\n",
       "      <td>SUSPICIOUS CIRCUM. - SUSPICIOUS PERSON</td>\n",
       "      <td>0</td>\n",
       "      <td>0</td>\n",
       "    </tr>\n",
       "  </tbody>\n",
       "</table>\n",
       "</div>"
      ],
      "text/plain": [
       "   Unnamed: 0 Subject Age Group  Stop Resolution Weapon Type  \\\n",
       "0           0           36 - 45                0     Unknown   \n",
       "1           1           46 - 55                0     Unknown   \n",
       "2           2           26 - 35                0  No Weapons   \n",
       "3           3           Unknown                0     Unknown   \n",
       "4           4           26 - 35                0     Unknown   \n",
       "\n",
       "      Subject Perceived Race Subject Perceived Gender  \\\n",
       "0                      White                     Male   \n",
       "1                      White                     Male   \n",
       "2                      White                     Male   \n",
       "3  Black or African American                     Male   \n",
       "4                    Unknown                   Female   \n",
       "\n",
       "                            Initial Call Type  \\\n",
       "0            DISTURBANCE, MISCELLANEOUS/OTHER   \n",
       "1      SUSPICIOUS PERSON, VEHICLE OR INCIDENT   \n",
       "2                                     Unknown   \n",
       "3  SUSPICIOUS STOP - OFFICER INITIATED ONVIEW   \n",
       "4      SUSPICIOUS PERSON, VEHICLE OR INCIDENT   \n",
       "\n",
       "                          Final Call Type  Arrest Flag Frisk Flag  \n",
       "0                     DISTURBANCE - OTHER            0          0  \n",
       "1  SUSPICIOUS CIRCUM. - SUSPICIOUS PERSON            0          0  \n",
       "2                                 Unknown            0          0  \n",
       "3  SUSPICIOUS CIRCUM. - SUSPICIOUS PERSON            0          0  \n",
       "4  SUSPICIOUS CIRCUM. - SUSPICIOUS PERSON            0          0  "
      ]
     },
     "execution_count": 5,
     "metadata": {},
     "output_type": "execute_result"
    }
   ],
   "source": [
    "df.head()"
   ]
  },
  {
   "cell_type": "code",
   "execution_count": 6,
   "metadata": {},
   "outputs": [],
   "source": [
    "# Removed first column\n",
    "df = df.drop(columns=['Unnamed: 0'])"
   ]
  },
  {
   "cell_type": "code",
   "execution_count": 7,
   "metadata": {},
   "outputs": [
    {
     "data": {
      "text/plain": [
       "(2255432, 9)"
      ]
     },
     "execution_count": 7,
     "metadata": {},
     "output_type": "execute_result"
    }
   ],
   "source": [
    "df.shape"
   ]
  },
  {
   "cell_type": "code",
   "execution_count": 8,
   "metadata": {},
   "outputs": [],
   "source": [
    "# 2,255,432 rows are too huge. decease it to 250k rows"
   ]
  },
  {
   "cell_type": "code",
   "execution_count": 9,
   "metadata": {},
   "outputs": [],
   "source": [
    "df = df.sample(n=250000, replace=False, weights=None, random_state=42)"
   ]
  },
  {
   "cell_type": "markdown",
   "metadata": {},
   "source": [
    "# Model 1: Perform a Dummy Classifier Model.\n",
    "# Features: Subject Age Group, Stop Resolution, Weapon Type, Subject Perceived Race, Gender, Initial Call Type, Final Call Type, Frisk Flag\n",
    "1. Define X and y\n",
    "2. Train Test Split\n",
    "3. Preprocessing\n",
    "4. Modeling\n",
    "5. Predict, Evaluate"
   ]
  },
  {
   "cell_type": "code",
   "execution_count": 10,
   "metadata": {},
   "outputs": [],
   "source": [
    "X = df.drop('Stop Resolution', axis = 1)\n",
    "y = df['Stop Resolution']"
   ]
  },
  {
   "cell_type": "code",
   "execution_count": 11,
   "metadata": {},
   "outputs": [],
   "source": [
    "# Do (60, 20, 20) data split"
   ]
  },
  {
   "cell_type": "code",
   "execution_count": 12,
   "metadata": {},
   "outputs": [],
   "source": [
    "X_train_touch, X_test, y_train_touch, y_test = train_test_split(X, y, test_size = 0.2, random_state=42)\n",
    "\n",
    "X_train, X_val, y_train, y_val = train_test_split(X_train_touch, y_train_touch, test_size = 0.25, random_state= 42)"
   ]
  },
  {
   "cell_type": "code",
   "execution_count": 13,
   "metadata": {},
   "outputs": [],
   "source": [
    "# create a mini-pipelines into our ColumnTransformer: categorical\n",
    "\n",
    "subpipe_cat = Pipeline(steps = [\n",
    "    ('ohe', OneHotEncoder(sparse = False, handle_unknown = 'ignore'))\n",
    "])\n",
    "\n",
    "# Create a column transformer\n",
    "# passthrough leaves the other df columns unchanged.\n",
    "\n",
    "CT = ColumnTransformer( transformers = [\n",
    "    ('subpipe_cat', subpipe_cat, selector(dtype_include = object))\n",
    "], remainder = 'passthrough')"
   ]
  },
  {
   "cell_type": "code",
   "execution_count": 15,
   "metadata": {},
   "outputs": [],
   "source": [
    "## BRING IN OUR CROSS VALIDATION MODELING CLASS FROM BEFORE, COPIED THE BELOW CODES FROM LECTURE PIPELINE"
   ]
  },
  {
   "cell_type": "code",
   "execution_count": 16,
   "metadata": {},
   "outputs": [],
   "source": [
    "class ModelWithCV():\n",
    "    '''Structure to save the model and more easily see its crossvalidation'''\n",
    "    \n",
    "    def __init__(self, model, model_name, X, y, cv_now=True):\n",
    "        self.model = model\n",
    "        self.name = model_name\n",
    "        self.X = X\n",
    "        self.y = y\n",
    "        # For CV results\n",
    "        self.cv_results = None\n",
    "        self.cv_mean = None\n",
    "        self.cv_median = None\n",
    "        self.cv_std = None\n",
    "        #\n",
    "        if cv_now:\n",
    "            self.cross_validate()\n",
    "        \n",
    "    def cross_validate(self, X=None, y=None, kfolds=10):\n",
    "        '''\n",
    "        Perform cross-validation and return results.\n",
    "        \n",
    "        Args: \n",
    "          X:\n",
    "            Optional; Training data to perform CV on. Otherwise use X from object\n",
    "          y:\n",
    "            Optional; Training data to perform CV on. Otherwise use y from object\n",
    "          kfolds:\n",
    "            Optional; Number of folds for CV (default is 10)  \n",
    "        '''\n",
    "        \n",
    "        cv_X = X if X else self.X\n",
    "        cv_y = y if y else self.y\n",
    "\n",
    "        self.cv_results = cross_val_score(self.model, cv_X, cv_y, cv=kfolds)\n",
    "        self.cv_mean = np.mean(self.cv_results)\n",
    "        self.cv_median = np.median(self.cv_results)\n",
    "        self.cv_std = np.std(self.cv_results)\n",
    "\n",
    "        \n",
    "    def print_cv_summary(self):\n",
    "        cv_summary = (\n",
    "        f'''CV Results for `{self.name}` model:\n",
    "            {self.cv_mean:.5f} ± {self.cv_std:.5f} accuracy\n",
    "        ''')\n",
    "        print(cv_summary)\n",
    "\n",
    "        \n",
    "    def plot_cv(self, ax):\n",
    "        '''\n",
    "        Plot the cross-validation values using the array of results and given \n",
    "        Axis for plotting.\n",
    "        '''\n",
    "        ax.set_title(f'CV Results for `{self.name}` Model')\n",
    "        # Thinner violinplot with higher bw\n",
    "        sns.violinplot(y=self.cv_results, ax=ax, bw=.4)\n",
    "        sns.swarmplot(\n",
    "                y=self.cv_results,\n",
    "                color='orange',\n",
    "                size=10,\n",
    "                alpha= 0.8,\n",
    "                ax=ax\n",
    "        )\n",
    "\n",
    "        return ax"
   ]
  },
  {
   "cell_type": "code",
   "execution_count": 17,
   "metadata": {},
   "outputs": [
    {
     "data": {
      "text/plain": [
       "0    0.755328\n",
       "1    0.244672\n",
       "Name: Stop Resolution, dtype: float64"
      ]
     },
     "execution_count": 17,
     "metadata": {},
     "output_type": "execute_result"
    }
   ],
   "source": [
    "y.value_counts(normalize = True)"
   ]
  },
  {
   "cell_type": "code",
   "execution_count": 88,
   "metadata": {},
   "outputs": [],
   "source": [
    "## Use SMOTE to balance the minority class"
   ]
  },
  {
   "cell_type": "code",
   "execution_count": 18,
   "metadata": {},
   "outputs": [],
   "source": [
    "# Dummy model pipeline\n",
    "dum_model_pipe = Pipeline(steps=[\n",
    "    ('ct',CT),\n",
    "    ('dum', DummyClassifier(strategy=\"most_frequent\"))\n",
    "])"
   ]
  },
  {
   "cell_type": "code",
   "execution_count": 19,
   "metadata": {
    "scrolled": false
   },
   "outputs": [
    {
     "data": {
      "text/plain": [
       "Pipeline(steps=[('ct',\n",
       "                 ColumnTransformer(remainder='passthrough',\n",
       "                                   transformers=[('subpipe_cat',\n",
       "                                                  Pipeline(steps=[('ohe',\n",
       "                                                                   OneHotEncoder(handle_unknown='ignore',\n",
       "                                                                                 sparse=False))]),\n",
       "                                                  <sklearn.compose._column_transformer.make_column_selector object at 0x7ff5a2f93400>)])),\n",
       "                ('dum', DummyClassifier(strategy='most_frequent'))])"
      ]
     },
     "execution_count": 19,
     "metadata": {},
     "output_type": "execute_result"
    }
   ],
   "source": [
    "dum_model_pipe.fit(X_train,y_train)"
   ]
  },
  {
   "cell_type": "code",
   "execution_count": 20,
   "metadata": {},
   "outputs": [
    {
     "data": {
      "text/plain": [
       "0.75658"
      ]
     },
     "execution_count": 20,
     "metadata": {},
     "output_type": "execute_result"
    }
   ],
   "source": [
    "dum_model_pipe.score(X_train, y_train)"
   ]
  },
  {
   "cell_type": "code",
   "execution_count": 21,
   "metadata": {},
   "outputs": [
    {
     "data": {
      "text/plain": [
       "0.75194"
      ]
     },
     "execution_count": 21,
     "metadata": {},
     "output_type": "execute_result"
    }
   ],
   "source": [
    "dum_model_pipe.score(X_val, y_val)"
   ]
  },
  {
   "cell_type": "code",
   "execution_count": 22,
   "metadata": {},
   "outputs": [],
   "source": [
    "# perform cross-validation on the dummy model"
   ]
  },
  {
   "cell_type": "code",
   "execution_count": 23,
   "metadata": {},
   "outputs": [
    {
     "data": {
      "text/plain": [
       "<AxesSubplot:title={'center':'CV Results for `dum` Model'}>"
      ]
     },
     "execution_count": 23,
     "metadata": {},
     "output_type": "execute_result"
    },
    {
     "data": {
      "image/png": "[encoded data removed]",
      "text/plain": [
       "<Figure size 720x720 with 1 Axes>"
      ]
     },
     "metadata": {
      "needs_background": "light"
     },
     "output_type": "display_data"
    }
   ],
   "source": [
    "dum_pipe = ModelWithCV(\n",
    "    dum_model_pipe,\n",
    "    model_name='dum',\n",
    "    X=X_train,\n",
    "    y=y_train)\n",
    "fix, ax = plt.subplots(figsize=(10,10))\n",
    "\n",
    "dum_pipe.plot_cv(ax=ax)"
   ]
  },
  {
   "cell_type": "code",
   "execution_count": 24,
   "metadata": {
    "scrolled": true
   },
   "outputs": [
    {
     "name": "stdout",
     "output_type": "stream",
     "text": [
      "CV Results for `dum` model:\n",
      "            0.75658 ± 0.00003 accuracy\n",
      "        \n"
     ]
    }
   ],
   "source": [
    "dum_pipe.print_cv_summary()"
   ]
  },
  {
   "cell_type": "code",
   "execution_count": 25,
   "metadata": {},
   "outputs": [],
   "source": [
    "# Accuracy for traning set is 76% and 75% for validation set. With cross-validation is 76%"
   ]
  },
  {
   "cell_type": "markdown",
   "metadata": {},
   "source": [
    "Dummy classifiers are mainly used for performance evaluation and can help to identify if a model is actually learning meaningful patterns or if the performance achieved is merely due to the class distribution in the dataset."
   ]
  },
  {
   "cell_type": "code",
   "execution_count": 32,
   "metadata": {},
   "outputs": [],
   "source": [
    "y_val_pred = dum_model_pipe.predict(X_val)"
   ]
  },
  {
   "cell_type": "code",
   "execution_count": 33,
   "metadata": {},
   "outputs": [
    {
     "name": "stdout",
     "output_type": "stream",
     "text": [
      "              precision    recall  f1-score   support\n",
      "\n",
      "           0       0.75      1.00      0.86     37597\n",
      "           1       0.00      0.00      0.00     12403\n",
      "\n",
      "    accuracy                           0.75     50000\n",
      "   macro avg       0.38      0.50      0.43     50000\n",
      "weighted avg       0.57      0.75      0.65     50000\n",
      "\n"
     ]
    },
    {
     "name": "stderr",
     "output_type": "stream",
     "text": [
      "/Users/echocai/opt/anaconda3/envs/learn-env/lib/python3.8/site-packages/sklearn/metrics/_classification.py:1221: UndefinedMetricWarning: Precision and F-score are ill-defined and being set to 0.0 in labels with no predicted samples. Use `zero_division` parameter to control this behavior.\n",
      "  _warn_prf(average, modifier, msg_start, len(result))\n"
     ]
    }
   ],
   "source": [
    "print (classification_report(y_val,y_val_pred))"
   ]
  },
  {
   "cell_type": "code",
   "execution_count": 34,
   "metadata": {},
   "outputs": [
    {
     "data": {
      "text/plain": [
       "<sklearn.metrics._plot.confusion_matrix.ConfusionMatrixDisplay at 0x7ff50f8f06a0>"
      ]
     },
     "execution_count": 34,
     "metadata": {},
     "output_type": "execute_result"
    },
    {
     "data": {
      "image/png": "[encoded data removed]",
      "text/plain": [
       "<Figure size 432x288 with 2 Axes>"
      ]
     },
     "metadata": {
      "needs_background": "light"
     },
     "output_type": "display_data"
    }
   ],
   "source": [
    "plot_confusion_matrix(dum_model_pipe, X_val,y_val)"
   ]
  },
  {
   "cell_type": "code",
   "execution_count": 35,
   "metadata": {},
   "outputs": [
    {
     "data": {
      "text/plain": [
       "<sklearn.metrics._plot.roc_curve.RocCurveDisplay at 0x7ff48f3388b0>"
      ]
     },
     "execution_count": 35,
     "metadata": {},
     "output_type": "execute_result"
    },
    {
     "data": {
      "image/png": "[encoded data removed]",
      "text/plain": [
       "<Figure size 432x288 with 1 Axes>"
      ]
     },
     "metadata": {
      "needs_background": "light"
     },
     "output_type": "display_data"
    }
   ],
   "source": [
    "plot_roc_curve(dum_model_pipe, X_val,y_val)"
   ]
  },
  {
   "cell_type": "markdown",
   "metadata": {},
   "source": [
    "# Model 2: First Logisitc Regression Model (FSM)"
   ]
  },
  {
   "cell_type": "markdown",
   "metadata": {},
   "source": [
    "# Features: Subject Age Group, Weapon Type, Subject Perceived Race, Gender, Initial Call Type, Final Call Type, Frisk Flag, Arrest Flag"
   ]
  },
  {
   "cell_type": "code",
   "execution_count": 26,
   "metadata": {},
   "outputs": [],
   "source": [
    "# Create FSM (First Simple Model)\n",
    "## Use SMOTE to bring up the minority class to 33% (Minority), 66% (Majority)\n",
    "\n",
    "logreg_model_pipe = ImPipeline(steps=[\n",
    "    ('ct',CT),\n",
    "    ('sm', SMOTE(sampling_strategy = 0.5, random_state = 42)), # setting minority half of majority\n",
    "    ('fsm', LogisticRegression(random_state = 42))\n",
    "])"
   ]
  },
  {
   "cell_type": "code",
   "execution_count": 27,
   "metadata": {
    "scrolled": false
   },
   "outputs": [
    {
     "name": "stderr",
     "output_type": "stream",
     "text": [
      "/Users/echocai/opt/anaconda3/envs/learn-env/lib/python3.8/site-packages/sklearn/linear_model/_logistic.py:762: ConvergenceWarning: lbfgs failed to converge (status=1):\n",
      "STOP: TOTAL NO. of ITERATIONS REACHED LIMIT.\n",
      "\n",
      "Increase the number of iterations (max_iter) or scale the data as shown in:\n",
      "    https://scikit-learn.org/stable/modules/preprocessing.html\n",
      "Please also refer to the documentation for alternative solver options:\n",
      "    https://scikit-learn.org/stable/modules/linear_model.html#logistic-regression\n",
      "  n_iter_i = _check_optimize_result(\n"
     ]
    },
    {
     "data": {
      "text/plain": [
       "Pipeline(steps=[('ct',\n",
       "                 ColumnTransformer(remainder='passthrough',\n",
       "                                   transformers=[('subpipe_cat',\n",
       "                                                  Pipeline(steps=[('ohe',\n",
       "                                                                   OneHotEncoder(handle_unknown='ignore',\n",
       "                                                                                 sparse=False))]),\n",
       "                                                  <sklearn.compose._column_transformer.make_column_selector object at 0x7ff5a2f93400>)])),\n",
       "                ('sm', SMOTE(random_state=42, sampling_strategy=0.5)),\n",
       "                ('fsm', LogisticRegression(random_state=42))])"
      ]
     },
     "execution_count": 27,
     "metadata": {},
     "output_type": "execute_result"
    }
   ],
   "source": [
    "logreg_model_pipe.fit(X_train, y_train) # this is taking a lot time because of OneHotEncoder and SMOTE"
   ]
  },
  {
   "cell_type": "code",
   "execution_count": 28,
   "metadata": {
    "scrolled": true
   },
   "outputs": [
    {
     "name": "stderr",
     "output_type": "stream",
     "text": [
      "/Users/echocai/opt/anaconda3/envs/learn-env/lib/python3.8/site-packages/sklearn/linear_model/_logistic.py:762: ConvergenceWarning: lbfgs failed to converge (status=1):\n",
      "STOP: TOTAL NO. of ITERATIONS REACHED LIMIT.\n",
      "\n",
      "Increase the number of iterations (max_iter) or scale the data as shown in:\n",
      "    https://scikit-learn.org/stable/modules/preprocessing.html\n",
      "Please also refer to the documentation for alternative solver options:\n",
      "    https://scikit-learn.org/stable/modules/linear_model.html#logistic-regression\n",
      "  n_iter_i = _check_optimize_result(\n",
      "/Users/echocai/opt/anaconda3/envs/learn-env/lib/python3.8/site-packages/sklearn/linear_model/_logistic.py:762: ConvergenceWarning: lbfgs failed to converge (status=1):\n",
      "STOP: TOTAL NO. of ITERATIONS REACHED LIMIT.\n",
      "\n",
      "Increase the number of iterations (max_iter) or scale the data as shown in:\n",
      "    https://scikit-learn.org/stable/modules/preprocessing.html\n",
      "Please also refer to the documentation for alternative solver options:\n",
      "    https://scikit-learn.org/stable/modules/linear_model.html#logistic-regression\n",
      "  n_iter_i = _check_optimize_result(\n",
      "/Users/echocai/opt/anaconda3/envs/learn-env/lib/python3.8/site-packages/sklearn/linear_model/_logistic.py:762: ConvergenceWarning: lbfgs failed to converge (status=1):\n",
      "STOP: TOTAL NO. of ITERATIONS REACHED LIMIT.\n",
      "\n",
      "Increase the number of iterations (max_iter) or scale the data as shown in:\n",
      "    https://scikit-learn.org/stable/modules/preprocessing.html\n",
      "Please also refer to the documentation for alternative solver options:\n",
      "    https://scikit-learn.org/stable/modules/linear_model.html#logistic-regression\n",
      "  n_iter_i = _check_optimize_result(\n",
      "/Users/echocai/opt/anaconda3/envs/learn-env/lib/python3.8/site-packages/sklearn/linear_model/_logistic.py:762: ConvergenceWarning: lbfgs failed to converge (status=1):\n",
      "STOP: TOTAL NO. of ITERATIONS REACHED LIMIT.\n",
      "\n",
      "Increase the number of iterations (max_iter) or scale the data as shown in:\n",
      "    https://scikit-learn.org/stable/modules/preprocessing.html\n",
      "Please also refer to the documentation for alternative solver options:\n",
      "    https://scikit-learn.org/stable/modules/linear_model.html#logistic-regression\n",
      "  n_iter_i = _check_optimize_result(\n",
      "/Users/echocai/opt/anaconda3/envs/learn-env/lib/python3.8/site-packages/sklearn/linear_model/_logistic.py:762: ConvergenceWarning: lbfgs failed to converge (status=1):\n",
      "STOP: TOTAL NO. of ITERATIONS REACHED LIMIT.\n",
      "\n",
      "Increase the number of iterations (max_iter) or scale the data as shown in:\n",
      "    https://scikit-learn.org/stable/modules/preprocessing.html\n",
      "Please also refer to the documentation for alternative solver options:\n",
      "    https://scikit-learn.org/stable/modules/linear_model.html#logistic-regression\n",
      "  n_iter_i = _check_optimize_result(\n",
      "/Users/echocai/opt/anaconda3/envs/learn-env/lib/python3.8/site-packages/sklearn/linear_model/_logistic.py:762: ConvergenceWarning: lbfgs failed to converge (status=1):\n",
      "STOP: TOTAL NO. of ITERATIONS REACHED LIMIT.\n",
      "\n",
      "Increase the number of iterations (max_iter) or scale the data as shown in:\n",
      "    https://scikit-learn.org/stable/modules/preprocessing.html\n",
      "Please also refer to the documentation for alternative solver options:\n",
      "    https://scikit-learn.org/stable/modules/linear_model.html#logistic-regression\n",
      "  n_iter_i = _check_optimize_result(\n",
      "/Users/echocai/opt/anaconda3/envs/learn-env/lib/python3.8/site-packages/sklearn/linear_model/_logistic.py:762: ConvergenceWarning: lbfgs failed to converge (status=1):\n",
      "STOP: TOTAL NO. of ITERATIONS REACHED LIMIT.\n",
      "\n",
      "Increase the number of iterations (max_iter) or scale the data as shown in:\n",
      "    https://scikit-learn.org/stable/modules/preprocessing.html\n",
      "Please also refer to the documentation for alternative solver options:\n",
      "    https://scikit-learn.org/stable/modules/linear_model.html#logistic-regression\n",
      "  n_iter_i = _check_optimize_result(\n",
      "/Users/echocai/opt/anaconda3/envs/learn-env/lib/python3.8/site-packages/sklearn/linear_model/_logistic.py:762: ConvergenceWarning: lbfgs failed to converge (status=1):\n",
      "STOP: TOTAL NO. of ITERATIONS REACHED LIMIT.\n",
      "\n",
      "Increase the number of iterations (max_iter) or scale the data as shown in:\n",
      "    https://scikit-learn.org/stable/modules/preprocessing.html\n",
      "Please also refer to the documentation for alternative solver options:\n",
      "    https://scikit-learn.org/stable/modules/linear_model.html#logistic-regression\n",
      "  n_iter_i = _check_optimize_result(\n",
      "/Users/echocai/opt/anaconda3/envs/learn-env/lib/python3.8/site-packages/sklearn/linear_model/_logistic.py:762: ConvergenceWarning: lbfgs failed to converge (status=1):\n",
      "STOP: TOTAL NO. of ITERATIONS REACHED LIMIT.\n",
      "\n",
      "Increase the number of iterations (max_iter) or scale the data as shown in:\n",
      "    https://scikit-learn.org/stable/modules/preprocessing.html\n",
      "Please also refer to the documentation for alternative solver options:\n",
      "    https://scikit-learn.org/stable/modules/linear_model.html#logistic-regression\n",
      "  n_iter_i = _check_optimize_result(\n",
      "/Users/echocai/opt/anaconda3/envs/learn-env/lib/python3.8/site-packages/sklearn/linear_model/_logistic.py:762: ConvergenceWarning: lbfgs failed to converge (status=1):\n",
      "STOP: TOTAL NO. of ITERATIONS REACHED LIMIT.\n",
      "\n",
      "Increase the number of iterations (max_iter) or scale the data as shown in:\n",
      "    https://scikit-learn.org/stable/modules/preprocessing.html\n",
      "Please also refer to the documentation for alternative solver options:\n",
      "    https://scikit-learn.org/stable/modules/linear_model.html#logistic-regression\n",
      "  n_iter_i = _check_optimize_result(\n"
     ]
    },
    {
     "data": {
      "text/plain": [
       "<AxesSubplot:title={'center':'CV Results for `FSM` Model'}>"
      ]
     },
     "execution_count": 28,
     "metadata": {},
     "output_type": "execute_result"
    },
    {
     "data": {
      "image/png": "[encoded data removed]",
      "text/plain": [
       "<Figure size 720x720 with 1 Axes>"
      ]
     },
     "metadata": {
      "needs_background": "light"
     },
     "output_type": "display_data"
    }
   ],
   "source": [
    "# Perform Cross-val on the training set with 10 folds\n",
    "fsm_pipe = ModelWithCV(\n",
    "    logreg_model_pipe,\n",
    "    model_name='FSM',\n",
    "    X=X_train,\n",
    "    y=y_train)\n",
    "fix, ax = plt.subplots(figsize=(10,10))\n",
    "\n",
    "fsm_pipe.plot_cv(ax=ax)"
   ]
  },
  {
   "cell_type": "code",
   "execution_count": 89,
   "metadata": {
    "scrolled": true
   },
   "outputs": [
    {
     "name": "stdout",
     "output_type": "stream",
     "text": [
      "CV Results for `FSM` model:\n",
      "            0.89608 ± 0.00265 accuracy\n",
      "        \n"
     ]
    }
   ],
   "source": [
    "fsm_pipe.print_cv_summary() # cross-validation training accuracy"
   ]
  },
  {
   "cell_type": "code",
   "execution_count": 30,
   "metadata": {},
   "outputs": [
    {
     "data": {
      "text/plain": [
       "0.89624"
      ]
     },
     "execution_count": 30,
     "metadata": {},
     "output_type": "execute_result"
    }
   ],
   "source": [
    "logreg_model_pipe.score(X_val,y_val) # accuracy of the model with validation set"
   ]
  },
  {
   "cell_type": "markdown",
   "metadata": {},
   "source": [
    "## Observation: First logistic model has an accuracy of  89.6% on the training and 89.6% on the validation set. Very good and not over-fitting."
   ]
  },
  {
   "cell_type": "code",
   "execution_count": 36,
   "metadata": {},
   "outputs": [],
   "source": [
    "# Further investigation on the validation set, get a classification report"
   ]
  },
  {
   "cell_type": "code",
   "execution_count": 37,
   "metadata": {},
   "outputs": [],
   "source": [
    "y_val_pred_fsm = logreg_model_pipe.predict(X_val)"
   ]
  },
  {
   "cell_type": "code",
   "execution_count": 38,
   "metadata": {},
   "outputs": [
    {
     "name": "stdout",
     "output_type": "stream",
     "text": [
      "              precision    recall  f1-score   support\n",
      "\n",
      "           0       0.94      0.92      0.93     37597\n",
      "           1       0.77      0.83      0.80     12403\n",
      "\n",
      "    accuracy                           0.90     50000\n",
      "   macro avg       0.86      0.88      0.86     50000\n",
      "weighted avg       0.90      0.90      0.90     50000\n",
      "\n"
     ]
    }
   ],
   "source": [
    "print (classification_report(y_val,y_val_pred_fsm))"
   ]
  },
  {
   "cell_type": "code",
   "execution_count": 39,
   "metadata": {},
   "outputs": [
    {
     "data": {
      "text/plain": [
       "<sklearn.metrics._plot.confusion_matrix.ConfusionMatrixDisplay at 0x7ff5a69b8a30>"
      ]
     },
     "execution_count": 39,
     "metadata": {},
     "output_type": "execute_result"
    },
    {
     "data": {
      "image/png": "[encoded data removed]",
      "text/plain": [
       "<Figure size 432x288 with 2 Axes>"
      ]
     },
     "metadata": {
      "needs_background": "light"
     },
     "output_type": "display_data"
    }
   ],
   "source": [
    "plot_confusion_matrix(logreg_model_pipe, X_val,y_val)"
   ]
  },
  {
   "cell_type": "code",
   "execution_count": 40,
   "metadata": {},
   "outputs": [
    {
     "data": {
      "text/plain": [
       "<sklearn.metrics._plot.roc_curve.RocCurveDisplay at 0x7ff48f0ada00>"
      ]
     },
     "execution_count": 40,
     "metadata": {},
     "output_type": "execute_result"
    },
    {
     "data": {
      "image/png": "[encoded data removed]",
      "text/plain": [
       "<Figure size 432x288 with 1 Axes>"
      ]
     },
     "metadata": {
      "needs_background": "light"
     },
     "output_type": "display_data"
    }
   ],
   "source": [
    "plot_roc_curve(logreg_model_pipe, X_val,y_val)"
   ]
  },
  {
   "cell_type": "code",
   "execution_count": 52,
   "metadata": {
    "scrolled": true
   },
   "outputs": [
    {
     "data": {
      "text/plain": [
       "0.7996911196911197"
      ]
     },
     "execution_count": 52,
     "metadata": {},
     "output_type": "execute_result"
    }
   ],
   "source": [
    "f1_score(y_val, y_val_pred_fsm)"
   ]
  },
  {
   "cell_type": "code",
   "execution_count": 53,
   "metadata": {},
   "outputs": [
    {
     "data": {
      "text/plain": [
       "0.89624"
      ]
     },
     "execution_count": 53,
     "metadata": {},
     "output_type": "execute_result"
    }
   ],
   "source": [
    "accuracy_score(y_val, y_val_pred_fsm)"
   ]
  },
  {
   "cell_type": "code",
   "execution_count": 66,
   "metadata": {},
   "outputs": [
    {
     "data": {
      "text/plain": [
       "array([[-4.31477668e-01, -1.26081300e-01,  7.02478693e-02,\n",
       "         1.18788618e-02, -1.26935264e-01, -2.08420328e-01,\n",
       "        -4.23306980e-01, -2.76772780e+00,  2.53600161e+00,\n",
       "        -2.61307655e-01,  2.29798575e+00,  1.87200934e+00,\n",
       "        -2.04369668e+00,  1.96660618e+00, -7.46481410e-01,\n",
       "        -4.08748415e+00,  1.28250635e-01, -6.50766227e-02,\n",
       "        -4.07484206e-02, -1.05395424e-01, -5.94264096e-01,\n",
       "        -2.23575825e-01,  1.38584505e-01, -3.23254876e-01,\n",
       "        -1.48614686e-01, -5.06957048e-01, -5.92408793e-02,\n",
       "        -4.30477700e-01, -2.37419182e-01, -4.99020540e-01,\n",
       "        -5.77861805e-01, -1.00502526e-02, -3.87357560e-01,\n",
       "         8.37488189e-01, -2.35305047e-01,  5.22563055e-01,\n",
       "        -5.71540255e-01, -4.03051217e-01, -3.19507720e-01,\n",
       "        -6.32907711e-02,  3.72844219e-01,  9.85724439e-01,\n",
       "         2.66642577e-01,  6.14620213e-01,  5.61405952e-01,\n",
       "         8.65698637e-01,  7.17712090e-01, -1.57061048e+00,\n",
       "         1.91582894e-01,  7.62779351e-01, -1.22842089e+00,\n",
       "         4.02486958e-01,  1.24318782e+00,  5.51011942e-02,\n",
       "         1.27540461e+00, -2.47932259e+00,  7.38576931e-02,\n",
       "        -8.91276854e-01,  7.50314897e-01,  4.90774475e-01,\n",
       "         3.84510279e-01, -3.89240570e-01,  1.01339724e+00,\n",
       "         6.59432214e-01, -1.99033567e-01, -3.99096914e-02,\n",
       "         4.07419075e-01,  6.58023829e-01,  7.23244515e-01,\n",
       "         5.24912793e-02, -1.33493809e+00, -2.15319616e-01,\n",
       "         2.70898027e-01,  6.93726831e-01,  1.04642265e+00,\n",
       "        -3.58043788e-01,  1.92518305e-01,  7.38317892e-01,\n",
       "         7.80184125e-01,  6.21218775e-01, -1.57567701e+00,\n",
       "        -1.30714136e+00,  3.96227152e-01,  3.26234240e-01,\n",
       "        -6.74590335e-01, -8.61049793e-01,  2.41629771e-01,\n",
       "         1.47498336e-01,  9.18775522e-01,  1.09087544e-01,\n",
       "        -8.32246005e-01,  4.66853571e-01,  8.12918312e-01,\n",
       "         3.73227785e-01, -4.30063244e-01,  4.56161273e-02,\n",
       "        -2.79949800e-03, -2.82784501e-04, -9.25846268e-04,\n",
       "         1.33093866e+00,  2.81872667e-01,  4.64273488e-01,\n",
       "        -1.01730005e+00,  1.05249413e-03, -1.16357142e-01,\n",
       "         2.46294806e-02,  8.26770324e-01, -5.31324098e-01,\n",
       "         9.25822712e-01, -8.80422119e-03, -2.42973263e-01,\n",
       "        -1.27939377e+00, -1.02290950e-01,  1.22797181e-03,\n",
       "         5.35829919e-01, -1.88699022e-01,  5.65676821e-01,\n",
       "         1.25171207e+00,  4.06156608e-01, -6.79725071e-02,\n",
       "         6.03429047e-01, -1.93407087e+00, -2.30320702e-01,\n",
       "        -1.33274513e+00, -1.13251231e+00, -2.06352636e-01,\n",
       "        -2.90410144e-01, -4.92668132e-01, -5.15384969e-01,\n",
       "        -1.86735021e+00, -4.37046110e-01,  2.86454433e-03,\n",
       "         8.45237182e-01,  7.82754366e-01,  1.11798401e+00,\n",
       "        -3.52722729e-01, -9.92371392e-01, -1.13804240e+00,\n",
       "        -9.41857723e-01,  1.13921484e+00,  8.63178409e-01,\n",
       "         1.13564614e+00,  2.16592381e-01, -5.73174382e-04,\n",
       "         2.57526373e-01, -8.85127991e-01, -1.19718081e+00,\n",
       "        -1.57860222e-01, -1.05913233e+00,  8.96176926e-01,\n",
       "         1.19498481e+00, -4.45658879e-01, -1.47909065e+00,\n",
       "        -5.23624059e-01, -8.91827653e-02,  3.14374231e-01,\n",
       "         9.12777435e-02,  2.88815428e-01,  8.88406277e-01,\n",
       "         1.37696125e-01, -2.00323204e-03,  6.51128616e-01,\n",
       "        -8.36775947e-01, -1.34369932e+00,  4.12028037e-01,\n",
       "         1.66323166e-01,  6.49933333e-01,  5.51615953e-01,\n",
       "        -2.27133234e-01,  3.85279182e-01,  4.63057464e-01,\n",
       "         2.24171916e-01, -6.48277000e-02, -2.31569732e-01,\n",
       "        -6.41947523e-01,  5.25881224e-03, -1.25035214e+00,\n",
       "         6.90323695e-01, -1.07489313e+00, -4.61046235e-01,\n",
       "        -4.27439158e-01,  1.28007774e-01,  1.58216478e-01,\n",
       "         3.60823479e-01, -1.60090777e-01,  1.34723200e+00,\n",
       "         1.23257216e+00,  8.70540756e-01, -3.20124471e-01,\n",
       "        -5.41812449e-03, -7.55141137e-01,  1.35983488e-03,\n",
       "        -2.72544483e-01,  5.19705624e-01,  3.30949124e-01,\n",
       "        -1.70427309e+00, -1.78413353e+00, -6.43144380e-03,\n",
       "        -4.47828400e-01, -1.12855547e-01, -4.48058570e-01,\n",
       "         2.80561647e-01,  6.87536568e-01, -8.97987007e-01,\n",
       "        -6.46695233e-01, -1.01786454e-01, -3.36390411e-01,\n",
       "         7.20006231e-01, -2.70612273e-01,  9.44886288e-01,\n",
       "         8.48854724e-01,  2.47475978e-01, -5.11836602e-03,\n",
       "         4.91106411e-01,  9.68022791e-01, -2.22179686e-01,\n",
       "         1.60185287e+00,  3.76776429e-01,  1.27560365e+00,\n",
       "        -3.73423550e-01, -2.68750048e-03, -2.91804150e-01,\n",
       "        -3.63396312e-01, -8.36565067e-01,  1.00623568e+00,\n",
       "        -1.35088980e+00, -2.99867654e-03,  4.37642010e-01,\n",
       "         1.46076860e-01, -1.64675461e+00,  8.80107994e-01,\n",
       "         1.00789251e+00, -1.94585701e-03,  9.27161923e-01,\n",
       "         3.33468606e-01, -1.41996286e+00,  4.84037747e-01,\n",
       "         4.07441699e-03, -7.07455625e-03,  4.29789170e-01,\n",
       "         8.88171865e-01,  3.34804744e-01,  1.44919278e+00,\n",
       "         1.06209845e+00,  1.33078623e+00,  8.20289343e-01,\n",
       "        -6.88584278e-03, -9.20039254e-01, -9.70183115e-01,\n",
       "        -7.72373112e-01, -5.89511491e-01,  3.67744928e-03,\n",
       "        -3.24177837e+00, -9.18963808e-01, -8.30465918e-03,\n",
       "        -2.56036030e-03, -2.84971513e-02, -2.42048695e+00,\n",
       "        -6.68882465e-01, -2.84073201e+00, -1.69596942e+00,\n",
       "        -2.42397816e+00, -1.36476546e+00,  7.41188916e-01,\n",
       "        -3.34822776e+00, -7.18346409e-02,  3.71604835e-01,\n",
       "         2.58479765e+00,  1.24885474e+00,  1.77490834e+00,\n",
       "         8.31536701e-01, -7.96311409e-01, -3.68495832e-01,\n",
       "        -7.84882726e-01, -5.26661286e-01, -8.67967312e-01,\n",
       "         8.29720599e-01,  1.27878310e+00,  1.21074243e+00,\n",
       "        -6.32662466e-01, -3.81091781e-01, -6.50272006e-01,\n",
       "        -4.46521988e-03,  6.51228837e-03, -4.18938367e-01,\n",
       "        -1.96960294e+00,  1.01491468e-02,  1.72173302e+00,\n",
       "         1.10700174e-01, -1.50211278e+00, -1.65737236e+00,\n",
       "         1.40093168e+00,  7.24656199e-01, -7.53352590e-01,\n",
       "         6.06918688e-01, -1.87953286e-01, -6.70419108e-01,\n",
       "         6.84918562e-04,  8.70906038e-01, -5.10512256e-03,\n",
       "         2.57152471e-01, -2.03214920e+00,  1.72523994e+00,\n",
       "         1.72068490e+00,  1.90643430e+00,  3.31531651e+00,\n",
       "        -2.08506166e-01, -2.67478048e-01, -1.06248253e-01,\n",
       "         6.81100838e-01,  3.80306784e-03, -3.34017110e-02,\n",
       "        -5.09178689e-01, -1.22428935e+00, -2.88448816e-01,\n",
       "        -6.92396157e-01, -3.05052766e-01, -3.99121037e-01,\n",
       "        -6.61533061e-01, -1.83117464e-03, -1.32904529e-03,\n",
       "         1.31433155e+00,  7.46099506e-01, -3.55610614e-01,\n",
       "        -1.75138183e+00, -5.16869123e-01,  7.05358802e-01,\n",
       "         6.74375420e-01, -6.54824229e-03, -1.29628465e+00,\n",
       "        -9.09301500e-01, -1.03031440e+00, -1.49536463e-02,\n",
       "        -1.42874765e-01,  1.14309321e+00,  1.91001378e+00,\n",
       "         1.72512612e+00,  9.15064966e-01,  9.12756052e-01,\n",
       "         1.26874714e+00, -4.29922413e-01,  9.51262000e-01,\n",
       "         2.65233568e-01, -7.85581205e-01, -7.49042832e-03,\n",
       "        -9.62810356e-01, -6.02203027e-01, -2.43596662e-01,\n",
       "        -2.86298351e+00, -2.37577806e+00, -1.55818028e+00,\n",
       "        -1.73017768e+00,  1.94960808e-01, -4.65335617e-01,\n",
       "         5.75663319e-01, -8.70383476e-03,  7.35414100e-01,\n",
       "         9.12324750e-01,  3.01231975e-01, -1.04438297e-01,\n",
       "        -6.86009909e-01, -1.52787706e+00,  1.09082968e-01,\n",
       "         8.30503531e-01, -3.32465194e-01,  3.58570978e+00,\n",
       "         8.62578358e-02,  2.17842258e-02, -2.10978614e-01,\n",
       "         2.61703000e-01,  2.26563525e-01,  1.96259584e-03,\n",
       "         1.26804042e+00, -2.13916203e+00, -1.38740454e-03,\n",
       "        -7.55141137e-01, -2.79949800e-03, -9.37172718e-01,\n",
       "        -7.66046978e-01,  2.09299680e+00,  4.31264367e-02,\n",
       "         2.14105454e+00,  2.48599907e+00,  1.63435548e-01,\n",
       "        -5.43745522e-01,  2.84555420e-01,  4.81880863e-01,\n",
       "        -7.32517794e-01, -1.32749436e-01, -3.68827579e-01,\n",
       "         1.36714702e+01]])"
      ]
     },
     "execution_count": 66,
     "metadata": {},
     "output_type": "execute_result"
    }
   ],
   "source": [
    "logreg_model_pipe.named_steps.fsm.coef_"
   ]
  },
  {
   "cell_type": "markdown",
   "metadata": {},
   "source": [
    "## First logistic regression model has much better performance than the dummy model with an increase of 14.4% accuracy"
   ]
  },
  {
   "cell_type": "markdown",
   "metadata": {},
   "source": [
    "   # Model 3: 1st Baseline Decision Tree Model"
   ]
  },
  {
   "cell_type": "code",
   "execution_count": 42,
   "metadata": {},
   "outputs": [],
   "source": [
    "# Create FDT (First Decision Tree)\n",
    "## Same pipeline. change the model to dt\n",
    "\n",
    "base_dtc_pipe = ImPipeline(steps=[\n",
    "    ('ct',CT),\n",
    "    ('sm', SMOTE(sampling_strategy=0.5, random_state = 42)), # setting minority half of majority\n",
    "    ('base_dtc', DecisionTreeClassifier(random_state = 42))\n",
    "])"
   ]
  },
  {
   "cell_type": "code",
   "execution_count": 43,
   "metadata": {},
   "outputs": [
    {
     "data": {
      "text/plain": [
       "Pipeline(steps=[('ct',\n",
       "                 ColumnTransformer(remainder='passthrough',\n",
       "                                   transformers=[('subpipe_cat',\n",
       "                                                  Pipeline(steps=[('ohe',\n",
       "                                                                   OneHotEncoder(handle_unknown='ignore',\n",
       "                                                                                 sparse=False))]),\n",
       "                                                  <sklearn.compose._column_transformer.make_column_selector object at 0x7ff5a2f93400>)])),\n",
       "                ('sm', SMOTE(random_state=42, sampling_strategy=0.5)),\n",
       "                ('base_dtc', DecisionTreeClassifier(random_state=42))])"
      ]
     },
     "execution_count": 43,
     "metadata": {},
     "output_type": "execute_result"
    }
   ],
   "source": [
    "base_dtc_pipe.fit(X_train, y_train)"
   ]
  },
  {
   "cell_type": "code",
   "execution_count": 45,
   "metadata": {},
   "outputs": [
    {
     "data": {
      "text/plain": [
       "<AxesSubplot:title={'center':'CV Results for `base_dtc` Model'}>"
      ]
     },
     "execution_count": 45,
     "metadata": {},
     "output_type": "execute_result"
    },
    {
     "data": {
      "image/png": "[encoded data removed]",
      "text/plain": [
       "<Figure size 720x720 with 1 Axes>"
      ]
     },
     "metadata": {
      "needs_background": "light"
     },
     "output_type": "display_data"
    }
   ],
   "source": [
    "base_dtc = ModelWithCV(\n",
    "    base_dtc_pipe,\n",
    "    model_name='base_dtc',\n",
    "    X=X_train,\n",
    "    y=y_train)\n",
    "fix, ax = plt.subplots(figsize=(10,10))\n",
    "\n",
    "base_dtc.plot_cv(ax=ax)"
   ]
  },
  {
   "cell_type": "code",
   "execution_count": 46,
   "metadata": {},
   "outputs": [
    {
     "name": "stdout",
     "output_type": "stream",
     "text": [
      "CV Results for `base_dtc` model:\n",
      "            0.94237 ± 0.00228 accuracy\n",
      "        \n"
     ]
    }
   ],
   "source": [
    "base_dtc.print_cv_summary() # accuracy of the model on training set"
   ]
  },
  {
   "cell_type": "code",
   "execution_count": 47,
   "metadata": {},
   "outputs": [
    {
     "data": {
      "text/plain": [
       "0.94502"
      ]
     },
     "execution_count": 47,
     "metadata": {},
     "output_type": "execute_result"
    }
   ],
   "source": [
    "base_dtc_pipe.score(X_val, y_val) # accuracy of the model on validation set"
   ]
  },
  {
   "cell_type": "code",
   "execution_count": 48,
   "metadata": {},
   "outputs": [],
   "source": [
    "y_val_pred_base_dtc = base_dtc_pipe.predict(X_val)"
   ]
  },
  {
   "cell_type": "code",
   "execution_count": 49,
   "metadata": {},
   "outputs": [
    {
     "name": "stdout",
     "output_type": "stream",
     "text": [
      "              precision    recall  f1-score   support\n",
      "\n",
      "           0       0.96      0.97      0.96     37597\n",
      "           1       0.89      0.88      0.89     12403\n",
      "\n",
      "    accuracy                           0.95     50000\n",
      "   macro avg       0.93      0.92      0.93     50000\n",
      "weighted avg       0.94      0.95      0.94     50000\n",
      "\n"
     ]
    }
   ],
   "source": [
    "print (classification_report(y_val,y_val_pred_base_dtc)) # see how good the mdoel predict compared to validation targets"
   ]
  },
  {
   "cell_type": "code",
   "execution_count": 50,
   "metadata": {},
   "outputs": [
    {
     "data": {
      "text/plain": [
       "<sklearn.metrics._plot.confusion_matrix.ConfusionMatrixDisplay at 0x7ff46ef0a940>"
      ]
     },
     "execution_count": 50,
     "metadata": {},
     "output_type": "execute_result"
    },
    {
     "data": {
      "image/png": "[encoded data removed]",
      "text/plain": [
       "<Figure size 432x288 with 2 Axes>"
      ]
     },
     "metadata": {
      "needs_background": "light"
     },
     "output_type": "display_data"
    }
   ],
   "source": [
    "plot_confusion_matrix(base_dtc_pipe, X_val, y_val)"
   ]
  },
  {
   "cell_type": "code",
   "execution_count": 55,
   "metadata": {},
   "outputs": [
    {
     "data": {
      "text/plain": [
       "0.8885374853018693"
      ]
     },
     "execution_count": 55,
     "metadata": {},
     "output_type": "execute_result"
    }
   ],
   "source": [
    "f1_score(y_val, y_val_pred_base_dtc)"
   ]
  },
  {
   "cell_type": "markdown",
   "metadata": {},
   "source": [
    "## Observation: comparing this model with first logreg, decision tree seems much better with f1-score being 0.89, and accuracy being 0.94 in both training and validation sets.\n"
   ]
  },
  {
   "cell_type": "code",
   "execution_count": null,
   "metadata": {},
   "outputs": [],
   "source": [
    "## check ROC-AUC"
   ]
  },
  {
   "cell_type": "code",
   "execution_count": 51,
   "metadata": {
    "scrolled": false
   },
   "outputs": [
    {
     "data": {
      "text/plain": [
       "<sklearn.metrics._plot.roc_curve.RocCurveDisplay at 0x7ff50ef65610>"
      ]
     },
     "execution_count": 51,
     "metadata": {},
     "output_type": "execute_result"
    },
    {
     "data": {
      "image/png": "[encoded data removed]",
      "text/plain": [
       "<Figure size 432x288 with 1 Axes>"
      ]
     },
     "metadata": {
      "needs_background": "light"
     },
     "output_type": "display_data"
    }
   ],
   "source": [
    "plot_roc_curve(base_dtc_pipe, X_val, y_val)"
   ]
  },
  {
   "cell_type": "code",
   "execution_count": 56,
   "metadata": {},
   "outputs": [],
   "source": [
    "## AUC for this baseline decision tree classifier is pretty good. This baseline decision tree model is better."
   ]
  },
  {
   "cell_type": "code",
   "execution_count": 63,
   "metadata": {
    "scrolled": true
   },
   "outputs": [
    {
     "data": {
      "text/plain": [
       "array([4.25648739e-03, 9.08781501e-03, 9.68044541e-03, 8.38969763e-03,\n",
       "       6.20606326e-03, 4.54232325e-03, 2.18852657e-03, 6.20676979e-04,\n",
       "       2.76114413e-04, 0.00000000e+00, 1.76813655e-03, 3.00226292e-03,\n",
       "       2.97250678e-04, 4.52250460e-03, 0.00000000e+00, 9.26516576e-02,\n",
       "       4.36484766e-03, 4.24780067e-03, 1.13883759e-02, 4.84224826e-03,\n",
       "       3.13061984e-03, 0.00000000e+00, 1.42097936e-03, 5.11323454e-03,\n",
       "       1.06245940e-02, 6.88936923e-03, 0.00000000e+00, 7.35494911e-03,\n",
       "       9.04419770e-04, 0.00000000e+00, 4.33242190e-05, 0.00000000e+00,\n",
       "       0.00000000e+00, 4.05761424e-05, 8.14905260e-05, 0.00000000e+00,\n",
       "       8.21905575e-04, 0.00000000e+00, 1.15613405e-04, 0.00000000e+00,\n",
       "       1.01658257e-04, 9.51448216e-05, 0.00000000e+00, 7.32289587e-04,\n",
       "       1.11020601e-04, 1.88807212e-04, 7.47361539e-04, 2.27715570e-03,\n",
       "       2.60790162e-03, 3.33839074e-04, 5.54346899e-05, 1.13222960e-03,\n",
       "       3.22207005e-04, 3.85439038e-04, 8.29031103e-05, 2.19906727e-04,\n",
       "       0.00000000e+00, 4.40314034e-05, 1.61786835e-03, 3.86273266e-04,\n",
       "       2.95907740e-04, 3.13028856e-05, 0.00000000e+00, 2.96336177e-05,\n",
       "       1.07155248e-03, 1.37558527e-03, 2.24683655e-03, 1.07599276e-03,\n",
       "       1.03047408e-04, 4.11187430e-04, 1.01135154e-04, 1.58816917e-05,\n",
       "       0.00000000e+00, 8.97462147e-05, 1.60911142e-04, 0.00000000e+00,\n",
       "       0.00000000e+00, 6.94546443e-04, 1.53631601e-03, 2.90660526e-03,\n",
       "       1.60744732e-04, 0.00000000e+00, 5.72941503e-04, 3.33912536e-04,\n",
       "       0.00000000e+00, 0.00000000e+00, 2.37547074e-03, 1.34048520e-03,\n",
       "       3.24345354e-04, 7.69224066e-04, 8.64799241e-05, 6.74145808e-05,\n",
       "       8.23167420e-04, 4.60869651e-04, 5.22350693e-05, 6.54696364e-04,\n",
       "       0.00000000e+00, 3.86900884e-04, 0.00000000e+00, 1.59479760e-04,\n",
       "       2.51101285e-04, 1.44045560e-04, 1.97169786e-04, 0.00000000e+00,\n",
       "       0.00000000e+00, 4.06403900e-05, 3.05477497e-05, 0.00000000e+00,\n",
       "       5.78903096e-04, 0.00000000e+00, 1.43798884e-04, 3.77488675e-04,\n",
       "       2.79820311e-05, 0.00000000e+00, 0.00000000e+00, 0.00000000e+00,\n",
       "       4.88132619e-04, 1.89655153e-05, 1.06419607e-04, 1.78492205e-04,\n",
       "       2.65069328e-04, 1.28123613e-04, 1.43739025e-03, 2.61477135e-04,\n",
       "       9.58161689e-05, 1.49844663e-05, 0.00000000e+00, 1.00432822e-03,\n",
       "       1.94958011e-05, 2.49749848e-04, 0.00000000e+00, 0.00000000e+00,\n",
       "       5.18066670e-04, 1.23643527e-04, 3.90923384e-04, 5.97979744e-04,\n",
       "       3.03400027e-05, 7.52149263e-05, 0.00000000e+00, 1.95330823e-04,\n",
       "       6.73836424e-05, 6.15986379e-04, 4.61558889e-04, 0.00000000e+00,\n",
       "       1.39340547e-03, 7.83831183e-05, 0.00000000e+00, 0.00000000e+00,\n",
       "       1.60556440e-04, 6.48928880e-04, 4.85480505e-04, 9.75529168e-05,\n",
       "       1.39509812e-04, 1.82673786e-04, 1.99106054e-05, 1.35140602e-03,\n",
       "       3.00362934e-03, 1.55917259e-04, 7.33614991e-04, 6.50653687e-04,\n",
       "       0.00000000e+00, 2.11366559e-03, 1.44088185e-03, 1.75341892e-04,\n",
       "       0.00000000e+00, 0.00000000e+00, 2.40377806e-04, 4.48008067e-06,\n",
       "       0.00000000e+00, 4.22872174e-03, 3.09454989e-03, 2.78161361e-03,\n",
       "       5.16646951e-04, 1.71336482e-03, 2.85556032e-04, 0.00000000e+00,\n",
       "       0.00000000e+00, 0.00000000e+00, 1.39808202e-04, 1.34342084e-04,\n",
       "       1.21528581e-04, 2.09218290e-03, 1.82101903e-03, 1.09213759e-04,\n",
       "       4.06853730e-04, 4.13998648e-04, 8.94828931e-05, 2.38293448e-04,\n",
       "       8.13016784e-04, 0.00000000e+00, 0.00000000e+00, 0.00000000e+00,\n",
       "       1.96805980e-04, 1.36472311e-03, 7.72378878e-04, 2.43226906e-04,\n",
       "       6.57855354e-04, 0.00000000e+00, 7.74334764e-04, 2.58879716e-03,\n",
       "       0.00000000e+00, 1.81137578e-05, 7.29442897e-05, 0.00000000e+00,\n",
       "       2.48677073e-05, 4.02081255e-05, 0.00000000e+00, 2.15565662e-04,\n",
       "       2.59507115e-04, 0.00000000e+00, 0.00000000e+00, 2.98832247e-05,\n",
       "       0.00000000e+00, 4.78057958e-05, 7.65311514e-04, 0.00000000e+00,\n",
       "       3.14943023e-03, 0.00000000e+00, 3.76905339e-03, 0.00000000e+00,\n",
       "       0.00000000e+00, 0.00000000e+00, 2.84350924e-04, 1.67633588e-04,\n",
       "       0.00000000e+00, 7.24896799e-05, 0.00000000e+00, 1.57117744e-04,\n",
       "       0.00000000e+00, 4.41687556e-04, 0.00000000e+00, 0.00000000e+00,\n",
       "       0.00000000e+00, 2.56626453e-04, 3.87973216e-04, 1.92242242e-04,\n",
       "       7.56880077e-04, 0.00000000e+00, 0.00000000e+00, 1.30424478e-04,\n",
       "       0.00000000e+00, 0.00000000e+00, 1.62368077e-03, 9.79379297e-04,\n",
       "       1.59661949e-03, 7.18733735e-04, 0.00000000e+00, 2.53730532e-05,\n",
       "       3.79310306e-05, 1.22996217e-04, 1.31895666e-04, 0.00000000e+00,\n",
       "       1.78864600e-02, 0.00000000e+00, 0.00000000e+00, 0.00000000e+00,\n",
       "       0.00000000e+00, 9.99495924e-03, 6.85225363e-05, 4.25152885e-04,\n",
       "       7.79654286e-05, 3.31593730e-02, 0.00000000e+00, 1.05535931e-04,\n",
       "       2.57611457e-02, 6.36216805e-05, 6.03172540e-05, 7.96495576e-03,\n",
       "       7.54287355e-04, 2.12146394e-03, 0.00000000e+00, 0.00000000e+00,\n",
       "       0.00000000e+00, 0.00000000e+00, 0.00000000e+00, 0.00000000e+00,\n",
       "       9.37026591e-05, 2.05416407e-04, 2.96537672e-04, 0.00000000e+00,\n",
       "       0.00000000e+00, 0.00000000e+00, 0.00000000e+00, 0.00000000e+00,\n",
       "       0.00000000e+00, 6.00023173e-05, 0.00000000e+00, 2.22936843e-04,\n",
       "       1.97536576e-04, 3.90711765e-05, 0.00000000e+00, 1.33136008e-04,\n",
       "       8.08317921e-05, 6.33061197e-05, 0.00000000e+00, 4.14843503e-04,\n",
       "       1.49027166e-03, 0.00000000e+00, 3.72765311e-04, 0.00000000e+00,\n",
       "       4.61376320e-04, 0.00000000e+00, 7.38869846e-04, 7.52107520e-04,\n",
       "       3.45746131e-03, 3.64614720e-04, 0.00000000e+00, 0.00000000e+00,\n",
       "       0.00000000e+00, 0.00000000e+00, 0.00000000e+00, 8.66835251e-05,\n",
       "       0.00000000e+00, 0.00000000e+00, 0.00000000e+00, 0.00000000e+00,\n",
       "       0.00000000e+00, 9.75068598e-05, 0.00000000e+00, 0.00000000e+00,\n",
       "       0.00000000e+00, 2.59922081e-04, 1.62698939e-04, 0.00000000e+00,\n",
       "       4.28510562e-04, 0.00000000e+00, 1.44264319e-03, 6.62178792e-04,\n",
       "       0.00000000e+00, 3.54777603e-04, 2.45266622e-02, 1.73131871e-04,\n",
       "       0.00000000e+00, 0.00000000e+00, 3.76007449e-05, 1.42646805e-04,\n",
       "       3.99450982e-05, 9.99382428e-04, 6.42436349e-05, 1.62071550e-03,\n",
       "       0.00000000e+00, 3.25364611e-05, 2.80265670e-04, 1.40766128e-04,\n",
       "       0.00000000e+00, 0.00000000e+00, 0.00000000e+00, 0.00000000e+00,\n",
       "       8.47338688e-04, 3.27798169e-02, 1.11348541e-02, 2.46943342e-04,\n",
       "       1.32010120e-04, 1.61357176e-04, 1.70297503e-03, 1.83052485e-04,\n",
       "       3.90786211e-04, 1.58231669e-03, 1.38503078e-03, 7.43745699e-06,\n",
       "       0.00000000e+00, 0.00000000e+00, 2.27848008e-05, 0.00000000e+00,\n",
       "       0.00000000e+00, 7.17529620e-03, 8.95952080e-04, 5.46800485e-04,\n",
       "       8.34513428e-05, 2.76965002e-05, 2.03212806e-04, 0.00000000e+00,\n",
       "       4.34186678e-05, 7.13037345e-05, 0.00000000e+00, 9.79467628e-02,\n",
       "       0.00000000e+00, 0.00000000e+00, 4.87131911e-04, 1.09621273e-04,\n",
       "       6.18588492e-05, 7.50627869e-03, 8.09541695e-03, 6.17308930e-05,\n",
       "       0.00000000e+00, 1.20366511e-03, 1.76533617e-03, 5.58237696e-03,\n",
       "       5.10144860e-03, 1.22949126e-03, 3.66465379e-01])"
      ]
     },
     "execution_count": 63,
     "metadata": {},
     "output_type": "execute_result"
    }
   ],
   "source": [
    "base_dtc_pipe.named_steps.base_dtc.feature_importances_"
   ]
  },
  {
   "cell_type": "code",
   "execution_count": 67,
   "metadata": {},
   "outputs": [],
   "source": [
    "# trying gripsearch on decision tree"
   ]
  },
  {
   "cell_type": "code",
   "execution_count": 68,
   "metadata": {},
   "outputs": [],
   "source": [
    "\n",
    "parameters = {'base_dtc__criterion': ['gini', 'entropy'],\n",
    "          'base_dtc__min_samples_leaf': [10, 15, 20],\n",
    "          'sm__k_neighbors': [9, 11, 13]}\n",
    "\n",
    "gs = GridSearchCV(estimator= base_dtc_pipe,\n",
    "                 param_grid=parameters,\n",
    "                 cv=5,\n",
    "                 verbose=2)"
   ]
  },
  {
   "cell_type": "code",
   "execution_count": 69,
   "metadata": {
    "scrolled": true
   },
   "outputs": [
    {
     "name": "stdout",
     "output_type": "stream",
     "text": [
      "Fitting 5 folds for each of 18 candidates, totalling 90 fits\n",
      "[CV] base_dtc__criterion=gini, base_dtc__min_samples_leaf=10, sm__k_neighbors=9 \n"
     ]
    },
    {
     "name": "stderr",
     "output_type": "stream",
     "text": [
      "[Parallel(n_jobs=1)]: Using backend SequentialBackend with 1 concurrent workers.\n"
     ]
    },
    {
     "name": "stdout",
     "output_type": "stream",
     "text": [
      "[CV]  base_dtc__criterion=gini, base_dtc__min_samples_leaf=10, sm__k_neighbors=9, total=15.2min\n",
      "[CV] base_dtc__criterion=gini, base_dtc__min_samples_leaf=10, sm__k_neighbors=9 \n"
     ]
    },
    {
     "name": "stderr",
     "output_type": "stream",
     "text": [
      "[Parallel(n_jobs=1)]: Done   1 out of   1 | elapsed: 15.2min remaining:    0.0s\n"
     ]
    },
    {
     "name": "stdout",
     "output_type": "stream",
     "text": [
      "[CV]  base_dtc__criterion=gini, base_dtc__min_samples_leaf=10, sm__k_neighbors=9, total=16.1min\n",
      "[CV] base_dtc__criterion=gini, base_dtc__min_samples_leaf=10, sm__k_neighbors=9 \n",
      "[CV]  base_dtc__criterion=gini, base_dtc__min_samples_leaf=10, sm__k_neighbors=9, total=15.8min\n",
      "[CV] base_dtc__criterion=gini, base_dtc__min_samples_leaf=10, sm__k_neighbors=9 \n",
      "[CV]  base_dtc__criterion=gini, base_dtc__min_samples_leaf=10, sm__k_neighbors=9, total=26.3min\n",
      "[CV] base_dtc__criterion=gini, base_dtc__min_samples_leaf=10, sm__k_neighbors=9 \n",
      "[CV]  base_dtc__criterion=gini, base_dtc__min_samples_leaf=10, sm__k_neighbors=9, total=47.0min\n",
      "[CV] base_dtc__criterion=gini, base_dtc__min_samples_leaf=10, sm__k_neighbors=11 \n",
      "[CV]  base_dtc__criterion=gini, base_dtc__min_samples_leaf=10, sm__k_neighbors=11, total=61.0min\n",
      "[CV] base_dtc__criterion=gini, base_dtc__min_samples_leaf=10, sm__k_neighbors=11 \n",
      "[CV]  base_dtc__criterion=gini, base_dtc__min_samples_leaf=10, sm__k_neighbors=11, total=12.1min\n",
      "[CV] base_dtc__criterion=gini, base_dtc__min_samples_leaf=10, sm__k_neighbors=11 \n",
      "[CV]  base_dtc__criterion=gini, base_dtc__min_samples_leaf=10, sm__k_neighbors=11, total=12.0min\n",
      "[CV] base_dtc__criterion=gini, base_dtc__min_samples_leaf=10, sm__k_neighbors=11 \n",
      "[CV]  base_dtc__criterion=gini, base_dtc__min_samples_leaf=10, sm__k_neighbors=11, total=13.1min\n",
      "[CV] base_dtc__criterion=gini, base_dtc__min_samples_leaf=10, sm__k_neighbors=11 \n",
      "[CV]  base_dtc__criterion=gini, base_dtc__min_samples_leaf=10, sm__k_neighbors=11, total=12.1min\n",
      "[CV] base_dtc__criterion=gini, base_dtc__min_samples_leaf=10, sm__k_neighbors=13 \n",
      "[CV]  base_dtc__criterion=gini, base_dtc__min_samples_leaf=10, sm__k_neighbors=13, total=17.2min\n",
      "[CV] base_dtc__criterion=gini, base_dtc__min_samples_leaf=10, sm__k_neighbors=13 \n",
      "[CV]  base_dtc__criterion=gini, base_dtc__min_samples_leaf=10, sm__k_neighbors=13, total=14.3min\n",
      "[CV] base_dtc__criterion=gini, base_dtc__min_samples_leaf=10, sm__k_neighbors=13 \n",
      "[CV]  base_dtc__criterion=gini, base_dtc__min_samples_leaf=10, sm__k_neighbors=13, total=19.3min\n",
      "[CV] base_dtc__criterion=gini, base_dtc__min_samples_leaf=10, sm__k_neighbors=13 \n",
      "[CV]  base_dtc__criterion=gini, base_dtc__min_samples_leaf=10, sm__k_neighbors=13, total=27.0min\n",
      "[CV] base_dtc__criterion=gini, base_dtc__min_samples_leaf=10, sm__k_neighbors=13 \n",
      "[CV]  base_dtc__criterion=gini, base_dtc__min_samples_leaf=10, sm__k_neighbors=13, total=11.9min\n",
      "[CV] base_dtc__criterion=gini, base_dtc__min_samples_leaf=15, sm__k_neighbors=9 \n",
      "[CV]  base_dtc__criterion=gini, base_dtc__min_samples_leaf=15, sm__k_neighbors=9, total=10.6min\n",
      "[CV] base_dtc__criterion=gini, base_dtc__min_samples_leaf=15, sm__k_neighbors=9 \n",
      "[CV]  base_dtc__criterion=gini, base_dtc__min_samples_leaf=15, sm__k_neighbors=9, total=12.8min\n",
      "[CV] base_dtc__criterion=gini, base_dtc__min_samples_leaf=15, sm__k_neighbors=9 \n",
      "[CV]  base_dtc__criterion=gini, base_dtc__min_samples_leaf=15, sm__k_neighbors=9, total=12.8min\n",
      "[CV] base_dtc__criterion=gini, base_dtc__min_samples_leaf=15, sm__k_neighbors=9 \n",
      "[CV]  base_dtc__criterion=gini, base_dtc__min_samples_leaf=15, sm__k_neighbors=9, total=19.1min\n",
      "[CV] base_dtc__criterion=gini, base_dtc__min_samples_leaf=15, sm__k_neighbors=9 \n",
      "[CV]  base_dtc__criterion=gini, base_dtc__min_samples_leaf=15, sm__k_neighbors=9, total=12.8min\n",
      "[CV] base_dtc__criterion=gini, base_dtc__min_samples_leaf=15, sm__k_neighbors=11 \n",
      "[CV]  base_dtc__criterion=gini, base_dtc__min_samples_leaf=15, sm__k_neighbors=11, total=14.9min\n",
      "[CV] base_dtc__criterion=gini, base_dtc__min_samples_leaf=15, sm__k_neighbors=11 \n",
      "[CV]  base_dtc__criterion=gini, base_dtc__min_samples_leaf=15, sm__k_neighbors=11, total=13.4min\n",
      "[CV] base_dtc__criterion=gini, base_dtc__min_samples_leaf=15, sm__k_neighbors=11 \n",
      "[CV]  base_dtc__criterion=gini, base_dtc__min_samples_leaf=15, sm__k_neighbors=11, total=12.6min\n",
      "[CV] base_dtc__criterion=gini, base_dtc__min_samples_leaf=15, sm__k_neighbors=11 \n",
      "[CV]  base_dtc__criterion=gini, base_dtc__min_samples_leaf=15, sm__k_neighbors=11, total=16.4min\n",
      "[CV] base_dtc__criterion=gini, base_dtc__min_samples_leaf=15, sm__k_neighbors=11 \n",
      "[CV]  base_dtc__criterion=gini, base_dtc__min_samples_leaf=15, sm__k_neighbors=11, total=14.2min\n",
      "[CV] base_dtc__criterion=gini, base_dtc__min_samples_leaf=15, sm__k_neighbors=13 \n",
      "[CV]  base_dtc__criterion=gini, base_dtc__min_samples_leaf=15, sm__k_neighbors=13, total=15.5min\n",
      "[CV] base_dtc__criterion=gini, base_dtc__min_samples_leaf=15, sm__k_neighbors=13 \n",
      "[CV]  base_dtc__criterion=gini, base_dtc__min_samples_leaf=15, sm__k_neighbors=13, total=15.0min\n",
      "[CV] base_dtc__criterion=gini, base_dtc__min_samples_leaf=15, sm__k_neighbors=13 \n",
      "[CV]  base_dtc__criterion=gini, base_dtc__min_samples_leaf=15, sm__k_neighbors=13, total=14.1min\n",
      "[CV] base_dtc__criterion=gini, base_dtc__min_samples_leaf=15, sm__k_neighbors=13 \n",
      "[CV]  base_dtc__criterion=gini, base_dtc__min_samples_leaf=15, sm__k_neighbors=13, total=17.0min\n",
      "[CV] base_dtc__criterion=gini, base_dtc__min_samples_leaf=15, sm__k_neighbors=13 \n",
      "[CV]  base_dtc__criterion=gini, base_dtc__min_samples_leaf=15, sm__k_neighbors=13, total=11.1min\n",
      "[CV] base_dtc__criterion=gini, base_dtc__min_samples_leaf=20, sm__k_neighbors=9 \n",
      "[CV]  base_dtc__criterion=gini, base_dtc__min_samples_leaf=20, sm__k_neighbors=9, total=12.1min\n",
      "[CV] base_dtc__criterion=gini, base_dtc__min_samples_leaf=20, sm__k_neighbors=9 \n",
      "[CV]  base_dtc__criterion=gini, base_dtc__min_samples_leaf=20, sm__k_neighbors=9, total=13.4min\n",
      "[CV] base_dtc__criterion=gini, base_dtc__min_samples_leaf=20, sm__k_neighbors=9 \n",
      "[CV]  base_dtc__criterion=gini, base_dtc__min_samples_leaf=20, sm__k_neighbors=9, total=18.4min\n",
      "[CV] base_dtc__criterion=gini, base_dtc__min_samples_leaf=20, sm__k_neighbors=9 \n",
      "[CV]  base_dtc__criterion=gini, base_dtc__min_samples_leaf=20, sm__k_neighbors=9, total=10.8min\n",
      "[CV] base_dtc__criterion=gini, base_dtc__min_samples_leaf=20, sm__k_neighbors=9 \n",
      "[CV]  base_dtc__criterion=gini, base_dtc__min_samples_leaf=20, sm__k_neighbors=9, total=10.5min\n",
      "[CV] base_dtc__criterion=gini, base_dtc__min_samples_leaf=20, sm__k_neighbors=11 \n",
      "[CV]  base_dtc__criterion=gini, base_dtc__min_samples_leaf=20, sm__k_neighbors=11, total=10.8min\n",
      "[CV] base_dtc__criterion=gini, base_dtc__min_samples_leaf=20, sm__k_neighbors=11 \n",
      "[CV]  base_dtc__criterion=gini, base_dtc__min_samples_leaf=20, sm__k_neighbors=11, total=10.8min\n",
      "[CV] base_dtc__criterion=gini, base_dtc__min_samples_leaf=20, sm__k_neighbors=11 \n",
      "[CV]  base_dtc__criterion=gini, base_dtc__min_samples_leaf=20, sm__k_neighbors=11, total=10.8min\n",
      "[CV] base_dtc__criterion=gini, base_dtc__min_samples_leaf=20, sm__k_neighbors=11 \n",
      "[CV]  base_dtc__criterion=gini, base_dtc__min_samples_leaf=20, sm__k_neighbors=11, total=10.7min\n",
      "[CV] base_dtc__criterion=gini, base_dtc__min_samples_leaf=20, sm__k_neighbors=11 \n",
      "[CV]  base_dtc__criterion=gini, base_dtc__min_samples_leaf=20, sm__k_neighbors=11, total=10.8min\n",
      "[CV] base_dtc__criterion=gini, base_dtc__min_samples_leaf=20, sm__k_neighbors=13 \n",
      "[CV]  base_dtc__criterion=gini, base_dtc__min_samples_leaf=20, sm__k_neighbors=13, total=11.0min\n",
      "[CV] base_dtc__criterion=gini, base_dtc__min_samples_leaf=20, sm__k_neighbors=13 \n",
      "[CV]  base_dtc__criterion=gini, base_dtc__min_samples_leaf=20, sm__k_neighbors=13, total=11.0min\n",
      "[CV] base_dtc__criterion=gini, base_dtc__min_samples_leaf=20, sm__k_neighbors=13 \n",
      "[CV]  base_dtc__criterion=gini, base_dtc__min_samples_leaf=20, sm__k_neighbors=13, total=10.9min\n",
      "[CV] base_dtc__criterion=gini, base_dtc__min_samples_leaf=20, sm__k_neighbors=13 \n",
      "[CV]  base_dtc__criterion=gini, base_dtc__min_samples_leaf=20, sm__k_neighbors=13, total=11.1min\n",
      "[CV] base_dtc__criterion=gini, base_dtc__min_samples_leaf=20, sm__k_neighbors=13 \n",
      "[CV]  base_dtc__criterion=gini, base_dtc__min_samples_leaf=20, sm__k_neighbors=13, total=11.1min\n",
      "[CV] base_dtc__criterion=entropy, base_dtc__min_samples_leaf=10, sm__k_neighbors=9 \n",
      "[CV]  base_dtc__criterion=entropy, base_dtc__min_samples_leaf=10, sm__k_neighbors=9, total=10.3min\n",
      "[CV] base_dtc__criterion=entropy, base_dtc__min_samples_leaf=10, sm__k_neighbors=9 \n",
      "[CV]  base_dtc__criterion=entropy, base_dtc__min_samples_leaf=10, sm__k_neighbors=9, total=10.3min\n",
      "[CV] base_dtc__criterion=entropy, base_dtc__min_samples_leaf=10, sm__k_neighbors=9 \n"
     ]
    },
    {
     "name": "stdout",
     "output_type": "stream",
     "text": [
      "[CV]  base_dtc__criterion=entropy, base_dtc__min_samples_leaf=10, sm__k_neighbors=9, total=10.2min\n",
      "[CV] base_dtc__criterion=entropy, base_dtc__min_samples_leaf=10, sm__k_neighbors=9 \n",
      "[CV]  base_dtc__criterion=entropy, base_dtc__min_samples_leaf=10, sm__k_neighbors=9, total=10.3min\n",
      "[CV] base_dtc__criterion=entropy, base_dtc__min_samples_leaf=10, sm__k_neighbors=9 \n",
      "[CV]  base_dtc__criterion=entropy, base_dtc__min_samples_leaf=10, sm__k_neighbors=9, total=10.3min\n",
      "[CV] base_dtc__criterion=entropy, base_dtc__min_samples_leaf=10, sm__k_neighbors=11 \n",
      "[CV]  base_dtc__criterion=entropy, base_dtc__min_samples_leaf=10, sm__k_neighbors=11, total=10.9min\n",
      "[CV] base_dtc__criterion=entropy, base_dtc__min_samples_leaf=10, sm__k_neighbors=11 \n",
      "[CV]  base_dtc__criterion=entropy, base_dtc__min_samples_leaf=10, sm__k_neighbors=11, total=11.0min\n",
      "[CV] base_dtc__criterion=entropy, base_dtc__min_samples_leaf=10, sm__k_neighbors=11 \n",
      "[CV]  base_dtc__criterion=entropy, base_dtc__min_samples_leaf=10, sm__k_neighbors=11, total=10.9min\n",
      "[CV] base_dtc__criterion=entropy, base_dtc__min_samples_leaf=10, sm__k_neighbors=11 \n",
      "[CV]  base_dtc__criterion=entropy, base_dtc__min_samples_leaf=10, sm__k_neighbors=11, total=11.1min\n",
      "[CV] base_dtc__criterion=entropy, base_dtc__min_samples_leaf=10, sm__k_neighbors=11 \n",
      "[CV]  base_dtc__criterion=entropy, base_dtc__min_samples_leaf=10, sm__k_neighbors=11, total=11.1min\n",
      "[CV] base_dtc__criterion=entropy, base_dtc__min_samples_leaf=10, sm__k_neighbors=13 \n",
      "[CV]  base_dtc__criterion=entropy, base_dtc__min_samples_leaf=10, sm__k_neighbors=13, total=11.4min\n",
      "[CV] base_dtc__criterion=entropy, base_dtc__min_samples_leaf=10, sm__k_neighbors=13 \n",
      "[CV]  base_dtc__criterion=entropy, base_dtc__min_samples_leaf=10, sm__k_neighbors=13, total=11.4min\n",
      "[CV] base_dtc__criterion=entropy, base_dtc__min_samples_leaf=10, sm__k_neighbors=13 \n",
      "[CV]  base_dtc__criterion=entropy, base_dtc__min_samples_leaf=10, sm__k_neighbors=13, total=11.2min\n",
      "[CV] base_dtc__criterion=entropy, base_dtc__min_samples_leaf=10, sm__k_neighbors=13 \n",
      "[CV]  base_dtc__criterion=entropy, base_dtc__min_samples_leaf=10, sm__k_neighbors=13, total=11.4min\n",
      "[CV] base_dtc__criterion=entropy, base_dtc__min_samples_leaf=10, sm__k_neighbors=13 \n",
      "[CV]  base_dtc__criterion=entropy, base_dtc__min_samples_leaf=10, sm__k_neighbors=13, total=11.4min\n",
      "[CV] base_dtc__criterion=entropy, base_dtc__min_samples_leaf=15, sm__k_neighbors=9 \n",
      "[CV]  base_dtc__criterion=entropy, base_dtc__min_samples_leaf=15, sm__k_neighbors=9, total=10.6min\n",
      "[CV] base_dtc__criterion=entropy, base_dtc__min_samples_leaf=15, sm__k_neighbors=9 \n",
      "[CV]  base_dtc__criterion=entropy, base_dtc__min_samples_leaf=15, sm__k_neighbors=9, total=10.6min\n",
      "[CV] base_dtc__criterion=entropy, base_dtc__min_samples_leaf=15, sm__k_neighbors=9 \n",
      "[CV]  base_dtc__criterion=entropy, base_dtc__min_samples_leaf=15, sm__k_neighbors=9, total=10.5min\n",
      "[CV] base_dtc__criterion=entropy, base_dtc__min_samples_leaf=15, sm__k_neighbors=9 \n",
      "[CV]  base_dtc__criterion=entropy, base_dtc__min_samples_leaf=15, sm__k_neighbors=9, total=10.5min\n",
      "[CV] base_dtc__criterion=entropy, base_dtc__min_samples_leaf=15, sm__k_neighbors=9 \n",
      "[CV]  base_dtc__criterion=entropy, base_dtc__min_samples_leaf=15, sm__k_neighbors=9, total=10.6min\n",
      "[CV] base_dtc__criterion=entropy, base_dtc__min_samples_leaf=15, sm__k_neighbors=11 \n",
      "[CV]  base_dtc__criterion=entropy, base_dtc__min_samples_leaf=15, sm__k_neighbors=11, total=11.2min\n",
      "[CV] base_dtc__criterion=entropy, base_dtc__min_samples_leaf=15, sm__k_neighbors=11 \n",
      "[CV]  base_dtc__criterion=entropy, base_dtc__min_samples_leaf=15, sm__k_neighbors=11, total=11.0min\n",
      "[CV] base_dtc__criterion=entropy, base_dtc__min_samples_leaf=15, sm__k_neighbors=11 \n",
      "[CV]  base_dtc__criterion=entropy, base_dtc__min_samples_leaf=15, sm__k_neighbors=11, total=10.9min\n",
      "[CV] base_dtc__criterion=entropy, base_dtc__min_samples_leaf=15, sm__k_neighbors=11 \n",
      "[CV]  base_dtc__criterion=entropy, base_dtc__min_samples_leaf=15, sm__k_neighbors=11, total=11.1min\n",
      "[CV] base_dtc__criterion=entropy, base_dtc__min_samples_leaf=15, sm__k_neighbors=11 \n",
      "[CV]  base_dtc__criterion=entropy, base_dtc__min_samples_leaf=15, sm__k_neighbors=11, total=11.1min\n",
      "[CV] base_dtc__criterion=entropy, base_dtc__min_samples_leaf=15, sm__k_neighbors=13 \n",
      "[CV]  base_dtc__criterion=entropy, base_dtc__min_samples_leaf=15, sm__k_neighbors=13, total=11.4min\n",
      "[CV] base_dtc__criterion=entropy, base_dtc__min_samples_leaf=15, sm__k_neighbors=13 \n",
      "[CV]  base_dtc__criterion=entropy, base_dtc__min_samples_leaf=15, sm__k_neighbors=13, total=11.4min\n",
      "[CV] base_dtc__criterion=entropy, base_dtc__min_samples_leaf=15, sm__k_neighbors=13 \n",
      "[CV]  base_dtc__criterion=entropy, base_dtc__min_samples_leaf=15, sm__k_neighbors=13, total=11.3min\n",
      "[CV] base_dtc__criterion=entropy, base_dtc__min_samples_leaf=15, sm__k_neighbors=13 \n",
      "[CV]  base_dtc__criterion=entropy, base_dtc__min_samples_leaf=15, sm__k_neighbors=13, total=11.4min\n",
      "[CV] base_dtc__criterion=entropy, base_dtc__min_samples_leaf=15, sm__k_neighbors=13 \n",
      "[CV]  base_dtc__criterion=entropy, base_dtc__min_samples_leaf=15, sm__k_neighbors=13, total=11.4min\n",
      "[CV] base_dtc__criterion=entropy, base_dtc__min_samples_leaf=20, sm__k_neighbors=9 \n",
      "[CV]  base_dtc__criterion=entropy, base_dtc__min_samples_leaf=20, sm__k_neighbors=9, total=10.7min\n",
      "[CV] base_dtc__criterion=entropy, base_dtc__min_samples_leaf=20, sm__k_neighbors=9 \n",
      "[CV]  base_dtc__criterion=entropy, base_dtc__min_samples_leaf=20, sm__k_neighbors=9, total= 9.9min\n",
      "[CV] base_dtc__criterion=entropy, base_dtc__min_samples_leaf=20, sm__k_neighbors=9 \n",
      "[CV]  base_dtc__criterion=entropy, base_dtc__min_samples_leaf=20, sm__k_neighbors=9, total= 9.1min\n",
      "[CV] base_dtc__criterion=entropy, base_dtc__min_samples_leaf=20, sm__k_neighbors=9 \n",
      "[CV]  base_dtc__criterion=entropy, base_dtc__min_samples_leaf=20, sm__k_neighbors=9, total= 8.6min\n",
      "[CV] base_dtc__criterion=entropy, base_dtc__min_samples_leaf=20, sm__k_neighbors=9 \n",
      "[CV]  base_dtc__criterion=entropy, base_dtc__min_samples_leaf=20, sm__k_neighbors=9, total= 8.6min\n",
      "[CV] base_dtc__criterion=entropy, base_dtc__min_samples_leaf=20, sm__k_neighbors=11 \n",
      "[CV]  base_dtc__criterion=entropy, base_dtc__min_samples_leaf=20, sm__k_neighbors=11, total= 9.0min\n",
      "[CV] base_dtc__criterion=entropy, base_dtc__min_samples_leaf=20, sm__k_neighbors=11 \n",
      "[CV]  base_dtc__criterion=entropy, base_dtc__min_samples_leaf=20, sm__k_neighbors=11, total= 8.9min\n",
      "[CV] base_dtc__criterion=entropy, base_dtc__min_samples_leaf=20, sm__k_neighbors=11 \n",
      "[CV]  base_dtc__criterion=entropy, base_dtc__min_samples_leaf=20, sm__k_neighbors=11, total= 8.9min\n",
      "[CV] base_dtc__criterion=entropy, base_dtc__min_samples_leaf=20, sm__k_neighbors=11 \n",
      "[CV]  base_dtc__criterion=entropy, base_dtc__min_samples_leaf=20, sm__k_neighbors=11, total=10.7min\n",
      "[CV] base_dtc__criterion=entropy, base_dtc__min_samples_leaf=20, sm__k_neighbors=11 \n",
      "[CV]  base_dtc__criterion=entropy, base_dtc__min_samples_leaf=20, sm__k_neighbors=11, total=10.2min\n",
      "[CV] base_dtc__criterion=entropy, base_dtc__min_samples_leaf=20, sm__k_neighbors=13 \n",
      "[CV]  base_dtc__criterion=entropy, base_dtc__min_samples_leaf=20, sm__k_neighbors=13, total=10.2min\n",
      "[CV] base_dtc__criterion=entropy, base_dtc__min_samples_leaf=20, sm__k_neighbors=13 \n",
      "[CV]  base_dtc__criterion=entropy, base_dtc__min_samples_leaf=20, sm__k_neighbors=13, total=10.4min\n",
      "[CV] base_dtc__criterion=entropy, base_dtc__min_samples_leaf=20, sm__k_neighbors=13 \n",
      "[CV]  base_dtc__criterion=entropy, base_dtc__min_samples_leaf=20, sm__k_neighbors=13, total=10.1min\n",
      "[CV] base_dtc__criterion=entropy, base_dtc__min_samples_leaf=20, sm__k_neighbors=13 \n",
      "[CV]  base_dtc__criterion=entropy, base_dtc__min_samples_leaf=20, sm__k_neighbors=13, total=10.6min\n",
      "[CV] base_dtc__criterion=entropy, base_dtc__min_samples_leaf=20, sm__k_neighbors=13 \n",
      "[CV]  base_dtc__criterion=entropy, base_dtc__min_samples_leaf=20, sm__k_neighbors=13, total=13.1min\n"
     ]
    },
    {
     "name": "stderr",
     "output_type": "stream",
     "text": [
      "[Parallel(n_jobs=1)]: Done  90 out of  90 | elapsed: 1184.2min finished\n"
     ]
    },
    {
     "data": {
      "text/plain": [
       "GridSearchCV(cv=5,\n",
       "             estimator=Pipeline(steps=[('ct',\n",
       "                                        ColumnTransformer(remainder='passthrough',\n",
       "                                                          transformers=[('subpipe_cat',\n",
       "                                                                         Pipeline(steps=[('ohe',\n",
       "                                                                                          OneHotEncoder(handle_unknown='ignore',\n",
       "                                                                                                        sparse=False))]),\n",
       "                                                                         <sklearn.compose._column_transformer.make_column_selector object at 0x7ff5a2f93400>)])),\n",
       "                                       ('sm',\n",
       "                                        SMOTE(random_state=42,\n",
       "                                              sampling_strategy=0.5)),\n",
       "                                       ('base_dtc',\n",
       "                                        DecisionTreeClassifier(random_state=42))]),\n",
       "             param_grid={'base_dtc__criterion': ['gini', 'entropy'],\n",
       "                         'base_dtc__min_samples_leaf': [10, 15, 20],\n",
       "                         'sm__k_neighbors': [9, 11, 13]},\n",
       "             verbose=2)"
      ]
     },
     "execution_count": 69,
     "metadata": {},
     "output_type": "execute_result"
    }
   ],
   "source": [
    "gs.fit(X_train, y_train)"
   ]
  },
  {
   "cell_type": "code",
   "execution_count": 71,
   "metadata": {},
   "outputs": [
    {
     "data": {
      "text/plain": [
       "{'base_dtc__criterion': 'entropy',\n",
       " 'base_dtc__min_samples_leaf': 10,\n",
       " 'sm__k_neighbors': 13}"
      ]
     },
     "execution_count": 71,
     "metadata": {},
     "output_type": "execute_result"
    }
   ],
   "source": [
    "gs.best_params_"
   ]
  },
  {
   "cell_type": "code",
   "execution_count": 72,
   "metadata": {},
   "outputs": [
    {
     "data": {
      "text/plain": [
       "Pipeline(steps=[('ct',\n",
       "                 ColumnTransformer(remainder='passthrough',\n",
       "                                   transformers=[('subpipe_cat',\n",
       "                                                  Pipeline(steps=[('ohe',\n",
       "                                                                   OneHotEncoder(handle_unknown='ignore',\n",
       "                                                                                 sparse=False))]),\n",
       "                                                  <sklearn.compose._column_transformer.make_column_selector object at 0x7ff46f6d4430>)])),\n",
       "                ('sm',\n",
       "                 SMOTE(k_neighbors=13, random_state=42, sampling_strategy=0.5)),\n",
       "                ('base_dtc',\n",
       "                 DecisionTreeClassifier(criterion='entropy',\n",
       "                                        min_samples_leaf=10,\n",
       "                                        random_state=42))])"
      ]
     },
     "execution_count": 72,
     "metadata": {},
     "output_type": "execute_result"
    }
   ],
   "source": [
    "gs.best_estimator_"
   ]
  },
  {
   "cell_type": "code",
   "execution_count": 73,
   "metadata": {},
   "outputs": [],
   "source": [
    "\n",
    "# final_model = gs.best_estimator_\n"
   ]
  },
  {
   "cell_type": "code",
   "execution_count": 74,
   "metadata": {},
   "outputs": [
    {
     "data": {
      "text/plain": [
       "<sklearn.metrics._plot.confusion_matrix.ConfusionMatrixDisplay at 0x7ff48f0a0dc0>"
      ]
     },
     "execution_count": 74,
     "metadata": {},
     "output_type": "execute_result"
    },
    {
     "data": {
      "image/png": "[encoded data removed]",
      "text/plain": [
       "<Figure size 432x288 with 2 Axes>"
      ]
     },
     "metadata": {
      "needs_background": "light"
     },
     "output_type": "display_data"
    }
   ],
   "source": [
    "# plot_confusion_matrix(final_model, X_val, y_val)"
   ]
  },
  {
   "cell_type": "code",
   "execution_count": 75,
   "metadata": {},
   "outputs": [],
   "source": [
    "# y_val_pred_best_dtc = final_model.predict(X_val)"
   ]
  },
  {
   "cell_type": "code",
   "execution_count": 76,
   "metadata": {},
   "outputs": [
    {
     "data": {
      "text/plain": [
       "0.8309887704220214"
      ]
     },
     "execution_count": 76,
     "metadata": {},
     "output_type": "execute_result"
    }
   ],
   "source": [
    "# f1_score(y_val,y_val_pred_best_dtc)"
   ]
  },
  {
   "cell_type": "code",
   "execution_count": 77,
   "metadata": {},
   "outputs": [
    {
     "data": {
      "text/plain": [
       "<sklearn.metrics._plot.roc_curve.RocCurveDisplay at 0x7ff4913ca0d0>"
      ]
     },
     "execution_count": 77,
     "metadata": {},
     "output_type": "execute_result"
    },
    {
     "data": {
      "image/png": "[encoded data removed]",
      "text/plain": [
       "<Figure size 432x288 with 1 Axes>"
      ]
     },
     "metadata": {
      "needs_background": "light"
     },
     "output_type": "display_data"
    }
   ],
   "source": [
    "# plot_roc_curve(final_model, X_val, y_val)"
   ]
  },
  {
   "cell_type": "code",
   "execution_count": 78,
   "metadata": {},
   "outputs": [],
   "source": [
    "# This final model doesn't look like it performance better than the 1st decision tree."
   ]
  },
  {
   "cell_type": "markdown",
   "metadata": {},
   "source": [
    "# Conclusion: Best model is base_dtc_pipe."
   ]
  },
  {
   "cell_type": "code",
   "execution_count": 90,
   "metadata": {},
   "outputs": [],
   "source": [
    "# Evaluate on test data."
   ]
  },
  {
   "cell_type": "code",
   "execution_count": 79,
   "metadata": {},
   "outputs": [],
   "source": [
    "y_test_hat = base_dtc_pipe.predict(X_test)"
   ]
  },
  {
   "cell_type": "code",
   "execution_count": 81,
   "metadata": {},
   "outputs": [
    {
     "name": "stdout",
     "output_type": "stream",
     "text": [
      "\n",
      "Our final model's accuracy on the test set is 0.94. \n",
      "\n",
      "Our final model's recall on the test set is 0.88 \n",
      "\n",
      "Our final model's precision on the test set is 0.89 \n",
      "\n",
      "Our final model's f1-score on the test is 0.89.\n",
      "\n"
     ]
    }
   ],
   "source": [
    "print(f\"\"\"\n",
    "Our final model's accuracy on the test set is {round(accuracy_score(y_test, y_test_hat), 2)}. \\n\n",
    "Our final model's recall on the test set is {round(recall_score(y_test, y_test_hat), 2)} \\n\n",
    "Our final model's precision on the test set is {round(precision_score(y_test, y_test_hat), 2)} \\n\n",
    "Our final model's f1-score on the test is {round(f1_score(y_test, y_test_hat), 2)}.\n",
    "\"\"\")"
   ]
  },
  {
   "cell_type": "code",
   "execution_count": 82,
   "metadata": {},
   "outputs": [],
   "source": [
    "final_model = base_dtc_pipe"
   ]
  },
  {
   "cell_type": "code",
   "execution_count": 84,
   "metadata": {},
   "outputs": [
    {
     "data": {
      "text/plain": [
       "Pipeline(steps=[('ct',\n",
       "                 ColumnTransformer(remainder='passthrough',\n",
       "                                   transformers=[('subpipe_cat',\n",
       "                                                  Pipeline(steps=[('ohe',\n",
       "                                                                   OneHotEncoder(handle_unknown='ignore',\n",
       "                                                                                 sparse=False))]),\n",
       "                                                  <sklearn.compose._column_transformer.make_column_selector object at 0x7ff5a2f93400>)])),\n",
       "                ('sm', SMOTE(random_state=42, sampling_strategy=0.5)),\n",
       "                ('base_dtc', DecisionTreeClassifier(random_state=42))])"
      ]
     },
     "execution_count": 84,
     "metadata": {},
     "output_type": "execute_result"
    }
   ],
   "source": [
    "final_model.fit(X_train_touch,y_train_touch)"
   ]
  },
  {
   "cell_type": "code",
   "execution_count": 85,
   "metadata": {},
   "outputs": [
    {
     "data": {
      "text/plain": [
       "0.951285"
      ]
     },
     "execution_count": 85,
     "metadata": {},
     "output_type": "execute_result"
    }
   ],
   "source": [
    "final_model.score(X_train_touch,y_train_touch) "
   ]
  },
  {
   "cell_type": "code",
   "execution_count": 86,
   "metadata": {},
   "outputs": [],
   "source": [
    "y_train_touch_pred = final_model.predict(X_train_touch)"
   ]
  },
  {
   "cell_type": "code",
   "execution_count": 87,
   "metadata": {},
   "outputs": [
    {
     "data": {
      "text/plain": [
       "0.9008759703329907"
      ]
     },
     "execution_count": 87,
     "metadata": {},
     "output_type": "execute_result"
    }
   ],
   "source": [
    "f1_score(y_train_touch, y_train_touch_pred)"
   ]
  },
  {
   "cell_type": "markdown",
   "metadata": {},
   "source": [
    "## In conclusion my model has a f1_score 0.90 on the 80% training and validation set, and it also performs at a f1_score 0.89 on the testing set 20%. This decision tree classifier model is doing pretty good, not overfitting. F1 score is this project's matrix because it provides a balanced evaluation for the model to correctly classify both if an individual is going to be arrested or not. I strongly believe both the impact of false negative and false positive are significant in terms of arresting people, or assuming someone has committed a crime."
   ]
  }
 ],
 "metadata": {
  "kernelspec": {
   "display_name": "Python (learn-env)",
   "language": "python",
   "name": "learn-env"
  },
  "language_info": {
   "codemirror_mode": {
    "name": "ipython",
    "version": 3
   },
   "file_extension": ".py",
   "mimetype": "text/x-python",
   "name": "python",
   "nbconvert_exporter": "python",
   "pygments_lexer": "ipython3",
   "version": "3.8.5"
  }
 },
 "nbformat": 4,
 "nbformat_minor": 2
}

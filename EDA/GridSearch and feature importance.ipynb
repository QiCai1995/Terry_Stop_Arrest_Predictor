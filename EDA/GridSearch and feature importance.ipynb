{
 "cells": [
  {
   "cell_type": "code",
   "execution_count": null,
   "metadata": {},
   "outputs": [],
   "source": [
    "## logreg_model_pipe = ImPipeline(steps=[\n",
    " #   ('ct',CT),\n",
    " #  ('sm', SMOTE(sampling_strategy=0.5, random_state = 42)), # setting minority half of majority\n",
    "  #  ('fsm', LogisticRegression(random_state = 42))\n",
    "# ])"
   ]
  },
  {
   "cell_type": "code",
   "execution_count": null,
   "metadata": {},
   "outputs": [],
   "source": [
    "## Logsitic Regression GripSearch\n",
    "\"\"\"\n",
    "params = {}\n",
    "params['fsm__penality'] = ['l1','l2','elasticnet']\n",
    "params['fsm__C'] = [1,0.1,0.01,0.001,0.0001]\n",
    "params['fsm__max_iter'] = [100,200,300,400,500,600]\n",
    "\n",
    "\n",
    "gs_logreg = GridSearchCV(estimator= logreg_model_pipe,\n",
    "                 param_grid=parameters,\n",
    "                 cv=10,\n",
    "                 verbose=2)\n",
    "\"\"\""
   ]
  },
  {
   "cell_type": "code",
   "execution_count": 1,
   "metadata": {},
   "outputs": [
    {
     "data": {
      "text/plain": [
       "' \\nfrom sklearn.datasets import load_iris\\nfrom sklearn.tree import DecisionTreeClassifier\\n\\n# Load the iris dataset\\niris = load_iris()\\n\\n# Fit a DecisionTree model to the data\\nmodel = DecisionTreeClassifier(random_state=0)\\nmodel.fit(iris.data, iris.target)\\n\\n# Get the feature importances\\nimportances = model.feature_importances_\\n\\n# Print feature importances\\nfor i, importance in enumerate(importances):\\n    print(f\"Feature {i}: {importance}\")\\n# Get feature names\\nfeature_names = iris.feature_names\\n\\n# Get feature importances and their indices sorted in descending order\\nindices = np.argsort(importances)[::-1]\\n\\n# Define the number of important features you want to select\\nN = 2\\n\\n# Print the top N features\\nfor i in range(N):\\n    print(f\"{i+1}. {feature_names[indices[i]]} (importance: {importances[indices[i]]})\")\\n'"
      ]
     },
     "execution_count": 1,
     "metadata": {},
     "output_type": "execute_result"
    }
   ],
   "source": [
    "\"\"\" \n",
    "from sklearn.datasets import load_iris\n",
    "from sklearn.tree import DecisionTreeClassifier\n",
    "\n",
    "# Load the iris dataset\n",
    "iris = load_iris()\n",
    "\n",
    "# Fit a DecisionTree model to the data\n",
    "model = DecisionTreeClassifier(random_state=0)\n",
    "model.fit(iris.data, iris.target)\n",
    "\n",
    "# Get the feature importances\n",
    "importances = model.feature_importances_\n",
    "\n",
    "# Print feature importances\n",
    "for i, importance in enumerate(importances):\n",
    "    print(f\"Feature {i}: {importance}\")\n",
    "# Get feature names\n",
    "feature_names = iris.feature_names\n",
    "\n",
    "# Get feature importances and their indices sorted in descending order\n",
    "indices = np.argsort(importances)[::-1]\n",
    "\n",
    "# Define the number of important features you want to select\n",
    "N = 2\n",
    "\n",
    "# Print the top N features\n",
    "for i in range(N):\n",
    "    print(f\"{i+1}. {feature_names[indices[i]]} (importance: {importances[indices[i]]})\")\n",
    "\"\"\""
   ]
  },
  {
   "cell_type": "code",
   "execution_count": null,
   "metadata": {},
   "outputs": [],
   "source": []
  }
 ],
 "metadata": {
  "kernelspec": {
   "display_name": "Python (learn-env)",
   "language": "python",
   "name": "learn-env"
  },
  "language_info": {
   "codemirror_mode": {
    "name": "ipython",
    "version": 3
   },
   "file_extension": ".py",
   "mimetype": "text/x-python",
   "name": "python",
   "nbconvert_exporter": "python",
   "pygments_lexer": "ipython3",
   "version": "3.8.5"
  }
 },
 "nbformat": 4,
 "nbformat_minor": 4
}
